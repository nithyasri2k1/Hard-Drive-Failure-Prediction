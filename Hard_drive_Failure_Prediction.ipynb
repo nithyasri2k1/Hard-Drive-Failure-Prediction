{
  "nbformat": 4,
  "nbformat_minor": 0,
  "metadata": {
    "colab": {
      "provenance": []
    },
    "kernelspec": {
      "name": "python3",
      "display_name": "Python 3"
    },
    "language_info": {
      "name": "python"
    },
    "accelerator": "GPU",
    "gpuClass": "standard"
  },
  "cells": [
    {
      "cell_type": "code",
      "execution_count": null,
      "metadata": {
        "id": "1esGHRs-y1eb",
        "colab": {
          "base_uri": "https://localhost:8080/"
        },
        "outputId": "084db5e3-51f3-413f-9389-005a2d3d8beb"
      },
      "outputs": [
        {
          "output_type": "stream",
          "name": "stdout",
          "text": [
            "--2023-04-01 10:30:35--  https://f001.backblazeb2.com/file/Backblaze-Hard-Drive-Data/data_Q1_2022.zip\n",
            "Resolving f001.backblazeb2.com (f001.backblazeb2.com)... 104.153.233.181\n",
            "Connecting to f001.backblazeb2.com (f001.backblazeb2.com)|104.153.233.181|:443... connected.\n",
            "HTTP request sent, awaiting response... 200 \n",
            "Length: 1064968390 (1016M) [application/zip]\n",
            "Saving to: ‘data_Q1_2022.zip’\n",
            "\n",
            "data_Q1_2022.zip    100%[===================>]   1016M  17.6MB/s    in 66s     \n",
            "\n",
            "2023-04-01 10:31:42 (15.3 MB/s) - ‘data_Q1_2022.zip’ saved [1064968390/1064968390]\n",
            "\n"
          ]
        }
      ],
      "source": [
        "!wget https://f001.backblazeb2.com/file/Backblaze-Hard-Drive-Data/data_Q1_2022.zip"
      ]
    },
    {
      "cell_type": "code",
      "source": [
        "!unzip /content/data_Q1_2022.zip"
      ],
      "metadata": {
        "id": "v1RM0DEgy4Uz",
        "colab": {
          "base_uri": "https://localhost:8080/"
        },
        "outputId": "69a5d6d7-efd8-4434-e7c2-7dbeabb47140"
      },
      "execution_count": null,
      "outputs": [
        {
          "output_type": "stream",
          "name": "stdout",
          "text": [
            "Archive:  /content/data_Q1_2022.zip\n",
            "   creating: data_Q1_2022/\n",
            "  inflating: __MACOSX/._data_Q1_2022  \n",
            "  inflating: data_Q1_2022/2022-03-11.csv  \n",
            "  inflating: __MACOSX/data_Q1_2022/._2022-03-11.csv  \n",
            "  inflating: data_Q1_2022/2022-03-05.csv  \n",
            "  inflating: __MACOSX/data_Q1_2022/._2022-03-05.csv  \n",
            "  inflating: data_Q1_2022/2022-01-14.csv  \n",
            "  inflating: __MACOSX/data_Q1_2022/._2022-01-14.csv  \n",
            "  inflating: data_Q1_2022/2022-01-28.csv  \n",
            "  inflating: __MACOSX/data_Q1_2022/._2022-01-28.csv  \n",
            "  inflating: data_Q1_2022/2022-01-29.csv  \n",
            "  inflating: __MACOSX/data_Q1_2022/._2022-01-29.csv  \n",
            "  inflating: data_Q1_2022/2022-01-01.csv  \n",
            "  inflating: __MACOSX/data_Q1_2022/._2022-01-01.csv  \n",
            "  inflating: data_Q1_2022/2022-01-15.csv  \n",
            "  inflating: __MACOSX/data_Q1_2022/._2022-01-15.csv  \n",
            "  inflating: data_Q1_2022/2022-03-04.csv  \n",
            "  inflating: __MACOSX/data_Q1_2022/._2022-03-04.csv  \n",
            "  inflating: data_Q1_2022/2022-03-10.csv  \n",
            "  inflating: __MACOSX/data_Q1_2022/._2022-03-10.csv  \n",
            "  inflating: data_Q1_2022/2022-03-06.csv  \n",
            "  inflating: __MACOSX/data_Q1_2022/._2022-03-06.csv  \n",
            "  inflating: data_Q1_2022/2022-03-12.csv  \n",
            "  inflating: __MACOSX/data_Q1_2022/._2022-03-12.csv  \n",
            "  inflating: data_Q1_2022/2022-01-03.csv  \n",
            "  inflating: __MACOSX/data_Q1_2022/._2022-01-03.csv  \n",
            "  inflating: data_Q1_2022/2022-01-17.csv  \n",
            "  inflating: __MACOSX/data_Q1_2022/._2022-01-17.csv  \n",
            "  inflating: data_Q1_2022/2022-01-16.csv  \n",
            "  inflating: __MACOSX/data_Q1_2022/._2022-01-16.csv  \n",
            "  inflating: data_Q1_2022/2022-01-02.csv  \n",
            "  inflating: __MACOSX/data_Q1_2022/._2022-01-02.csv  \n",
            "  inflating: data_Q1_2022/2022-03-13.csv  \n",
            "  inflating: __MACOSX/data_Q1_2022/._2022-03-13.csv  \n",
            "  inflating: data_Q1_2022/2022-03-07.csv  \n",
            "  inflating: __MACOSX/data_Q1_2022/._2022-03-07.csv  \n",
            "  inflating: data_Q1_2022/2022-03-03.csv  \n",
            "  inflating: __MACOSX/data_Q1_2022/._2022-03-03.csv  \n",
            "  inflating: data_Q1_2022/2022-03-17.csv  \n",
            "  inflating: __MACOSX/data_Q1_2022/._2022-03-17.csv  \n",
            "  inflating: data_Q1_2022/.DS_Store  \n",
            "  inflating: __MACOSX/data_Q1_2022/._.DS_Store  \n",
            "  inflating: data_Q1_2022/2022-01-06.csv  \n",
            "  inflating: __MACOSX/data_Q1_2022/._2022-01-06.csv  \n",
            "  inflating: data_Q1_2022/2022-01-12.csv  \n",
            "  inflating: __MACOSX/data_Q1_2022/._2022-01-12.csv  \n",
            "  inflating: data_Q1_2022/2022-01-13.csv  \n",
            "  inflating: __MACOSX/data_Q1_2022/._2022-01-13.csv  \n",
            "  inflating: data_Q1_2022/2022-01-07.csv  \n",
            "  inflating: __MACOSX/data_Q1_2022/._2022-01-07.csv  \n",
            "  inflating: data_Q1_2022/2022-03-16.csv  \n",
            "  inflating: __MACOSX/data_Q1_2022/._2022-03-16.csv  \n",
            "  inflating: data_Q1_2022/2022-03-02.csv  \n",
            "  inflating: __MACOSX/data_Q1_2022/._2022-03-02.csv  \n",
            "  inflating: data_Q1_2022/2022-03-28.csv  \n",
            "  inflating: __MACOSX/data_Q1_2022/._2022-03-28.csv  \n",
            "  inflating: data_Q1_2022/2022-03-14.csv  \n",
            "  inflating: __MACOSX/data_Q1_2022/._2022-03-14.csv  \n",
            "  inflating: data_Q1_2022/2022-01-11.csv  \n",
            "  inflating: __MACOSX/data_Q1_2022/._2022-01-11.csv  \n",
            "  inflating: data_Q1_2022/2022-01-05.csv  \n",
            "  inflating: __MACOSX/data_Q1_2022/._2022-01-05.csv  \n",
            "  inflating: data_Q1_2022/2022-01-04.csv  \n",
            "  inflating: __MACOSX/data_Q1_2022/._2022-01-04.csv  \n",
            "  inflating: data_Q1_2022/2022-01-10.csv  \n",
            "  inflating: __MACOSX/data_Q1_2022/._2022-01-10.csv  \n",
            "  inflating: data_Q1_2022/2022-03-01.csv  \n",
            "  inflating: __MACOSX/data_Q1_2022/._2022-03-01.csv  \n",
            "  inflating: data_Q1_2022/2022-03-15.csv  \n",
            "  inflating: __MACOSX/data_Q1_2022/._2022-03-15.csv  \n",
            "  inflating: data_Q1_2022/2022-03-29.csv  \n",
            "  inflating: __MACOSX/data_Q1_2022/._2022-03-29.csv  \n",
            "  inflating: data_Q1_2022/2022-02-26.csv  \n",
            "  inflating: __MACOSX/data_Q1_2022/._2022-02-26.csv  \n",
            "  inflating: data_Q1_2022/2022-02-27.csv  \n",
            "  inflating: __MACOSX/data_Q1_2022/._2022-02-27.csv  \n",
            "  inflating: data_Q1_2022/2022-02-19.csv  \n",
            "  inflating: __MACOSX/data_Q1_2022/._2022-02-19.csv  \n",
            "  inflating: data_Q1_2022/2022-02-25.csv  \n",
            "  inflating: __MACOSX/data_Q1_2022/._2022-02-25.csv  \n",
            "  inflating: data_Q1_2022/2022-02-24.csv  \n",
            "  inflating: __MACOSX/data_Q1_2022/._2022-02-24.csv  \n",
            "  inflating: data_Q1_2022/2022-02-18.csv  \n",
            "  inflating: __MACOSX/data_Q1_2022/._2022-02-18.csv  \n",
            "  inflating: data_Q1_2022/2022-02-20.csv  \n",
            "  inflating: __MACOSX/data_Q1_2022/._2022-02-20.csv  \n",
            "  inflating: data_Q1_2022/2022-02-08.csv  \n",
            "  inflating: __MACOSX/data_Q1_2022/._2022-02-08.csv  \n",
            "  inflating: data_Q1_2022/2022-02-09.csv  \n",
            "  inflating: __MACOSX/data_Q1_2022/._2022-02-09.csv  \n",
            "  inflating: data_Q1_2022/2022-02-21.csv  \n",
            "  inflating: __MACOSX/data_Q1_2022/._2022-02-21.csv  \n",
            "  inflating: data_Q1_2022/2022-02-23.csv  \n",
            "  inflating: __MACOSX/data_Q1_2022/._2022-02-23.csv  \n",
            "  inflating: data_Q1_2022/2022-02-22.csv  \n",
            "  inflating: __MACOSX/data_Q1_2022/._2022-02-22.csv  \n",
            "  inflating: data_Q1_2022/2022-02-07.csv  \n",
            "  inflating: __MACOSX/data_Q1_2022/._2022-02-07.csv  \n",
            "  inflating: data_Q1_2022/2022-02-13.csv  \n",
            "  inflating: __MACOSX/data_Q1_2022/._2022-02-13.csv  \n",
            "  inflating: data_Q1_2022/2022-02-12.csv  \n",
            "  inflating: __MACOSX/data_Q1_2022/._2022-02-12.csv  \n",
            "  inflating: data_Q1_2022/2022-02-06.csv  \n",
            "  inflating: __MACOSX/data_Q1_2022/._2022-02-06.csv  \n",
            "  inflating: data_Q1_2022/2022-02-10.csv  \n",
            "  inflating: __MACOSX/data_Q1_2022/._2022-02-10.csv  \n",
            "  inflating: data_Q1_2022/2022-02-04.csv  \n",
            "  inflating: __MACOSX/data_Q1_2022/._2022-02-04.csv  \n",
            "  inflating: data_Q1_2022/2022-02-05.csv  \n",
            "  inflating: __MACOSX/data_Q1_2022/._2022-02-05.csv  \n",
            "  inflating: data_Q1_2022/2022-02-11.csv  \n",
            "  inflating: __MACOSX/data_Q1_2022/._2022-02-11.csv  \n",
            "  inflating: data_Q1_2022/2022-02-15.csv  \n",
            "  inflating: __MACOSX/data_Q1_2022/._2022-02-15.csv  \n",
            "  inflating: data_Q1_2022/2022-02-01.csv  \n",
            "  inflating: __MACOSX/data_Q1_2022/._2022-02-01.csv  \n",
            "  inflating: data_Q1_2022/2022-02-28.csv  \n",
            "  inflating: __MACOSX/data_Q1_2022/._2022-02-28.csv  \n",
            "  inflating: data_Q1_2022/2022-02-14.csv  \n",
            "  inflating: __MACOSX/data_Q1_2022/._2022-02-14.csv  \n",
            "  inflating: data_Q1_2022/2022-02-02.csv  \n",
            "  inflating: __MACOSX/data_Q1_2022/._2022-02-02.csv  \n",
            "  inflating: data_Q1_2022/2022-02-16.csv  \n",
            "  inflating: __MACOSX/data_Q1_2022/._2022-02-16.csv  \n",
            "  inflating: data_Q1_2022/2022-02-17.csv  \n",
            "  inflating: __MACOSX/data_Q1_2022/._2022-02-17.csv  \n",
            "  inflating: data_Q1_2022/2022-02-03.csv  \n",
            "  inflating: __MACOSX/data_Q1_2022/._2022-02-03.csv  \n",
            "  inflating: data_Q1_2022/2022-03-30.csv  \n",
            "  inflating: __MACOSX/data_Q1_2022/._2022-03-30.csv  \n",
            "  inflating: data_Q1_2022/2022-03-24.csv  \n",
            "  inflating: __MACOSX/data_Q1_2022/._2022-03-24.csv  \n",
            "  inflating: data_Q1_2022/2022-03-18.csv  \n",
            "  inflating: __MACOSX/data_Q1_2022/._2022-03-18.csv  \n",
            "  inflating: data_Q1_2022/2022-01-21.csv  \n",
            "  inflating: __MACOSX/data_Q1_2022/._2022-01-21.csv  \n",
            "  inflating: data_Q1_2022/2022-01-09.csv  \n",
            "  inflating: __MACOSX/data_Q1_2022/._2022-01-09.csv  \n",
            "  inflating: data_Q1_2022/2022-01-08.csv  \n",
            "  inflating: __MACOSX/data_Q1_2022/._2022-01-08.csv  \n",
            "  inflating: data_Q1_2022/2022-01-20.csv  \n",
            "  inflating: __MACOSX/data_Q1_2022/._2022-01-20.csv  \n",
            "  inflating: data_Q1_2022/2022-03-19.csv  \n",
            "  inflating: __MACOSX/data_Q1_2022/._2022-03-19.csv  \n",
            "  inflating: data_Q1_2022/2022-03-25.csv  \n",
            "  inflating: __MACOSX/data_Q1_2022/._2022-03-25.csv  \n",
            "  inflating: data_Q1_2022/2022-03-31.csv  \n",
            "  inflating: __MACOSX/data_Q1_2022/._2022-03-31.csv  \n",
            "  inflating: data_Q1_2022/2022-03-27.csv  \n",
            "  inflating: __MACOSX/data_Q1_2022/._2022-03-27.csv  \n",
            "  inflating: data_Q1_2022/2022-01-22.csv  \n",
            "  inflating: __MACOSX/data_Q1_2022/._2022-01-22.csv  \n",
            "  inflating: data_Q1_2022/2022-01-23.csv  \n",
            "  inflating: __MACOSX/data_Q1_2022/._2022-01-23.csv  \n",
            "  inflating: data_Q1_2022/2022-03-26.csv  \n",
            "  inflating: __MACOSX/data_Q1_2022/._2022-03-26.csv  \n",
            "  inflating: data_Q1_2022/2022-03-22.csv  \n",
            "  inflating: __MACOSX/data_Q1_2022/._2022-03-22.csv  \n",
            "  inflating: data_Q1_2022/2022-01-27.csv  \n",
            "  inflating: __MACOSX/data_Q1_2022/._2022-01-27.csv  \n",
            "  inflating: data_Q1_2022/2022-01-26.csv  \n",
            "  inflating: __MACOSX/data_Q1_2022/._2022-01-26.csv  \n",
            "  inflating: data_Q1_2022/2022-03-23.csv  \n",
            "  inflating: __MACOSX/data_Q1_2022/._2022-03-23.csv  \n",
            "  inflating: data_Q1_2022/2022-03-09.csv  \n",
            "  inflating: __MACOSX/data_Q1_2022/._2022-03-09.csv  \n",
            "  inflating: data_Q1_2022/2022-03-21.csv  \n",
            "  inflating: __MACOSX/data_Q1_2022/._2022-03-21.csv  \n",
            "  inflating: data_Q1_2022/2022-01-18.csv  \n",
            "  inflating: __MACOSX/data_Q1_2022/._2022-01-18.csv  \n",
            "  inflating: data_Q1_2022/2022-01-30.csv  \n",
            "  inflating: __MACOSX/data_Q1_2022/._2022-01-30.csv  \n",
            "  inflating: data_Q1_2022/2022-01-24.csv  \n",
            "  inflating: __MACOSX/data_Q1_2022/._2022-01-24.csv  \n",
            "  inflating: data_Q1_2022/2022-01-25.csv  \n",
            "  inflating: __MACOSX/data_Q1_2022/._2022-01-25.csv  \n",
            "  inflating: data_Q1_2022/2022-01-31.csv  \n",
            "  inflating: __MACOSX/data_Q1_2022/._2022-01-31.csv  \n",
            "  inflating: data_Q1_2022/2022-01-19.csv  \n",
            "  inflating: __MACOSX/data_Q1_2022/._2022-01-19.csv  \n",
            "  inflating: data_Q1_2022/2022-03-20.csv  \n",
            "  inflating: __MACOSX/data_Q1_2022/._2022-03-20.csv  \n",
            "  inflating: data_Q1_2022/2022-03-08.csv  \n",
            "  inflating: __MACOSX/data_Q1_2022/._2022-03-08.csv  \n"
          ]
        }
      ]
    },
    {
      "cell_type": "markdown",
      "source": [
        "# Extracting Failure Data"
      ],
      "metadata": {
        "id": "LW8pyZxqut-n"
      }
    },
    {
      "cell_type": "code",
      "source": [
        "import os\n",
        "import pandas as pd\n",
        "\n",
        "# Define the directory path where the CSV files are located\n",
        "dir_path = '/content/data_Q1_2022'\n",
        "\n",
        "# Define the condition to filter the records\n",
        "condition = 'failure==1'\n",
        "\n",
        "# Create an empty dataframe to store the compiled records\n",
        "df = pd.DataFrame()\n",
        "\n",
        "# Loop through each CSV file in the directory and filter the records based on the condition\n",
        "for file_name in os.listdir(dir_path):\n",
        "    if file_name.endswith('.csv'):\n",
        "        file_path = os.path.join(dir_path, file_name)\n",
        "        temp_df = pd.read_csv(file_path)\n",
        "        filtered_df = temp_df.query(condition)\n",
        "        df = pd.concat([df, filtered_df], ignore_index=True)\n",
        "\n",
        "# Print the compiled dataframe\n",
        "print(df)"
      ],
      "metadata": {
        "colab": {
          "base_uri": "https://localhost:8080/"
        },
        "id": "9iVadcgEsaBa",
        "outputId": "ca851e0d-caf8-465e-857b-56ca894e2f63"
      },
      "execution_count": null,
      "outputs": [
        {
          "output_type": "stream",
          "name": "stdout",
          "text": [
            "           date serial_number                model  capacity_bytes  failure  \\\n",
            "0    2022-02-03      ZLW0C6ZV        ST12000NM001G  12000138625024        1   \n",
            "1    2022-02-03      ZA10B5K0          ST8000DM002   8001563222016        1   \n",
            "2    2022-02-03      ZA180Q9S         ST8000NM0055   8001563222016        1   \n",
            "3    2022-02-03      ZA17ZNLA         ST8000NM0055   8001563222016        1   \n",
            "4    2022-02-03  61A0A077F97G  TOSHIBA MG07ACA14TA  14000519643136        1   \n",
            "..          ...           ...                  ...             ...      ...   \n",
            "659  2022-01-18  51S0A374FVGG  TOSHIBA MG08ACA16TE  16000900661248        1   \n",
            "660  2022-01-18      ZLW18PHB        ST14000NM001G  14000519643136        1   \n",
            "661  2022-01-18  10K0A085F97G  TOSHIBA MG07ACA14TA  14000519643136        1   \n",
            "662  2022-01-18      ZLW18EV9        ST14000NM001G  14000519643136        1   \n",
            "663  2022-01-18      ZHZ6CH4W        ST12000NM0008  12000138625024        1   \n",
            "\n",
            "     smart_1_normalized  smart_1_raw  smart_2_normalized  smart_2_raw  \\\n",
            "0                  68.0   77994594.0                 NaN          NaN   \n",
            "1                  73.0  152019512.0                 NaN          NaN   \n",
            "2                  82.0  177504768.0                 NaN          NaN   \n",
            "3                  84.0  239720696.0                 NaN          NaN   \n",
            "4                 100.0          0.0               100.0          0.0   \n",
            "..                  ...          ...                 ...          ...   \n",
            "659               100.0          0.0               100.0          0.0   \n",
            "660                80.0  104164120.0                 NaN          NaN   \n",
            "661               100.0          0.0               100.0          0.0   \n",
            "662                 NaN          NaN                 NaN          NaN   \n",
            "663                53.0  131279600.0                 NaN          NaN   \n",
            "\n",
            "     smart_3_normalized  ...  smart_250_normalized  smart_250_raw  \\\n",
            "0                  98.0  ...                   NaN            NaN   \n",
            "1                  89.0  ...                   NaN            NaN   \n",
            "2                  89.0  ...                   NaN            NaN   \n",
            "3                  89.0  ...                   NaN            NaN   \n",
            "4                 100.0  ...                   NaN            NaN   \n",
            "..                  ...  ...                   ...            ...   \n",
            "659               100.0  ...                   NaN            NaN   \n",
            "660                95.0  ...                   NaN            NaN   \n",
            "661               100.0  ...                   NaN            NaN   \n",
            "662                 NaN  ...                   NaN            NaN   \n",
            "663                93.0  ...                   NaN            NaN   \n",
            "\n",
            "     smart_251_normalized  smart_251_raw  smart_252_normalized  smart_252_raw  \\\n",
            "0                     NaN            NaN                   NaN            NaN   \n",
            "1                     NaN            NaN                   NaN            NaN   \n",
            "2                     NaN            NaN                   NaN            NaN   \n",
            "3                     NaN            NaN                   NaN            NaN   \n",
            "4                     NaN            NaN                   NaN            NaN   \n",
            "..                    ...            ...                   ...            ...   \n",
            "659                   NaN            NaN                   NaN            NaN   \n",
            "660                   NaN            NaN                   NaN            NaN   \n",
            "661                   NaN            NaN                   NaN            NaN   \n",
            "662                   NaN            NaN                   NaN            NaN   \n",
            "663                   NaN            NaN                   NaN            NaN   \n",
            "\n",
            "     smart_254_normalized  smart_254_raw  smart_255_normalized  smart_255_raw  \n",
            "0                     NaN            NaN                   NaN            NaN  \n",
            "1                     NaN            NaN                   NaN            NaN  \n",
            "2                     NaN            NaN                   NaN            NaN  \n",
            "3                     NaN            NaN                   NaN            NaN  \n",
            "4                     NaN            NaN                   NaN            NaN  \n",
            "..                    ...            ...                   ...            ...  \n",
            "659                   NaN            NaN                   NaN            NaN  \n",
            "660                   NaN            NaN                   NaN            NaN  \n",
            "661                   NaN            NaN                   NaN            NaN  \n",
            "662                   NaN            NaN                   NaN            NaN  \n",
            "663                   NaN            NaN                   NaN            NaN  \n",
            "\n",
            "[664 rows x 179 columns]\n"
          ]
        }
      ]
    },
    {
      "cell_type": "code",
      "source": [
        "df.to_csv('failure.csv',index = False)"
      ],
      "metadata": {
        "id": "T1il2k0wuY9q"
      },
      "execution_count": null,
      "outputs": []
    },
    {
      "cell_type": "code",
      "source": [
        "data=pd.read_csv(\"/content/failure.csv\")\n",
        "drop=[]\n",
        "for i in data.columns:\n",
        "  if \"normalized\" in i:\n",
        "    drop.append(i)\n",
        "data.drop(drop,axis=1,inplace=True)\n",
        "perc=50 \n",
        "min_count=int(((100-perc)/100)*data.shape[0] + 1)\n",
        "fdata=data.dropna(axis=1,thresh=min_count)\n",
        "fdata=fdata.dropna(axis=1,how='all')# dropping the columns with NaN values\n",
        "fdata=fdata.dropna()# drops all rows with even one NaN\n",
        "fdata\n",
        "print(fdata)"
      ],
      "metadata": {
        "colab": {
          "base_uri": "https://localhost:8080/"
        },
        "id": "xz5Yg51Zu02A",
        "outputId": "ebbcec18-9ff1-42d5-8201-e02913241dde"
      },
      "execution_count": null,
      "outputs": [
        {
          "output_type": "stream",
          "name": "stdout",
          "text": [
            "           date serial_number         model  capacity_bytes  failure  \\\n",
            "1    2022-02-03      ZA10B5K0   ST8000DM002   8001563222016        1   \n",
            "2    2022-02-03      ZA180Q9S  ST8000NM0055   8001563222016        1   \n",
            "3    2022-02-03      ZA17ZNLA  ST8000NM0055   8001563222016        1   \n",
            "5    2022-01-31      ZA1819DX  ST8000NM0055   8001563222016        1   \n",
            "8    2022-01-31      Z305D6HS   ST4000DM000   4000787030016        1   \n",
            "..          ...           ...           ...             ...      ...   \n",
            "649  2022-03-11      ZA180XHR  ST8000NM0055   8001563222016        1   \n",
            "652  2022-03-11      ZA1JXEFV  ST8000NM0055   8001563222016        1   \n",
            "653  2022-03-11      ZA1814DD  ST8000NM0055   8001563222016        1   \n",
            "655  2022-01-18      Z302SZGN   ST4000DM000   4000787030016        1   \n",
            "658  2022-01-18      ZGS01HE4    ST500LM030    500107862016        1   \n",
            "\n",
            "     smart_1_raw  smart_3_raw  smart_4_raw  smart_5_raw   smart_7_raw  ...  \\\n",
            "1    152019512.0          0.0          6.0      46208.0  8.262735e+08  ...   \n",
            "2    177504768.0          0.0         10.0        280.0  1.349649e+09  ...   \n",
            "3    239720696.0          0.0         13.0          0.0  2.443576e+09  ...   \n",
            "5    150367872.0          0.0         16.0      14136.0  1.847411e+09  ...   \n",
            "8     95785312.0          0.0         19.0          0.0  4.951414e+07  ...   \n",
            "..           ...          ...          ...          ...           ...  ...   \n",
            "649   75517896.0          0.0         20.0      43456.0  1.836903e+09  ...   \n",
            "652    5545842.0          0.0          1.0          0.0  4.369800e+04  ...   \n",
            "653   77378264.0          0.0         12.0         40.0  1.741580e+09  ...   \n",
            "655  204220368.0          0.0         13.0         16.0  3.593101e+08  ...   \n",
            "658  168852392.0          0.0          6.0          0.0  1.715638e+07  ...   \n",
            "\n",
            "     smart_191_raw  smart_192_raw  smart_193_raw  smart_194_raw  \\\n",
            "1              0.0          132.0          413.0           27.0   \n",
            "2           7529.0           72.0        25712.0           40.0   \n",
            "3          32845.0           52.0        29574.0           41.0   \n",
            "5          61727.0           41.0        56640.0           39.0   \n",
            "8              0.0            0.0        10886.0           34.0   \n",
            "..             ...            ...            ...            ...   \n",
            "649         6591.0           79.0        23961.0           40.0   \n",
            "652            1.0            0.0            2.0           35.0   \n",
            "653        14666.0           65.0        25482.0           36.0   \n",
            "655            0.0            0.0        22088.0           31.0   \n",
            "658            1.0            1.0           17.0           35.0   \n",
            "\n",
            "     smart_197_raw  smart_198_raw  smart_199_raw  smart_240_raw  \\\n",
            "1              0.0            0.0            0.0        49794.0   \n",
            "2             16.0           16.0            0.0        38797.0   \n",
            "3              0.0            0.0            0.0        38809.0   \n",
            "5              0.0            0.0            0.0        39188.0   \n",
            "8            176.0          176.0            0.0        52238.0   \n",
            "..             ...            ...            ...            ...   \n",
            "649            0.0            0.0            0.0        40318.0   \n",
            "652            0.0            0.0            0.0            0.0   \n",
            "653            0.0            0.0            0.0        39671.0   \n",
            "655            8.0            8.0            0.0        56011.0   \n",
            "658            0.0            0.0            0.0        20100.0   \n",
            "\n",
            "     smart_241_raw  smart_242_raw  \n",
            "1     8.407130e+10   3.670753e+11  \n",
            "2     7.192500e+10   3.846170e+11  \n",
            "3     7.098032e+10   4.247682e+11  \n",
            "5     7.804327e+10   3.477239e+11  \n",
            "8     6.019404e+10   3.886209e+11  \n",
            "..             ...            ...  \n",
            "649   7.504259e+10   4.684082e+11  \n",
            "652   5.458880e+06   8.696200e+04  \n",
            "653   7.238517e+10   4.182738e+11  \n",
            "655   7.146902e+10   3.123975e+11  \n",
            "658   3.010828e+10   1.547086e+10  \n",
            "\n",
            "[252 rows x 26 columns]\n"
          ]
        }
      ]
    },
    {
      "cell_type": "code",
      "source": [
        "fdata.isnull().sum()"
      ],
      "metadata": {
        "colab": {
          "base_uri": "https://localhost:8080/"
        },
        "id": "GKvIby84xf7S",
        "outputId": "9906a581-5f4b-4d74-9c3a-9407fb675be3"
      },
      "execution_count": null,
      "outputs": [
        {
          "output_type": "execute_result",
          "data": {
            "text/plain": [
              "date              0\n",
              "serial_number     0\n",
              "model             0\n",
              "capacity_bytes    0\n",
              "failure           0\n",
              "smart_1_raw       0\n",
              "smart_3_raw       0\n",
              "smart_4_raw       0\n",
              "smart_5_raw       0\n",
              "smart_7_raw       0\n",
              "smart_9_raw       0\n",
              "smart_10_raw      0\n",
              "smart_12_raw      0\n",
              "smart_187_raw     0\n",
              "smart_188_raw     0\n",
              "smart_190_raw     0\n",
              "smart_191_raw     0\n",
              "smart_192_raw     0\n",
              "smart_193_raw     0\n",
              "smart_194_raw     0\n",
              "smart_197_raw     0\n",
              "smart_198_raw     0\n",
              "smart_199_raw     0\n",
              "smart_240_raw     0\n",
              "smart_241_raw     0\n",
              "smart_242_raw     0\n",
              "dtype: int64"
            ]
          },
          "metadata": {},
          "execution_count": 6
        }
      ]
    },
    {
      "cell_type": "code",
      "source": [
        "fdata.to_csv('raw_nn_failure.csv',index = False)"
      ],
      "metadata": {
        "id": "W7rAsyJmx4Q6"
      },
      "execution_count": null,
      "outputs": []
    },
    {
      "cell_type": "markdown",
      "source": [
        "# Data Cleaning"
      ],
      "metadata": {
        "id": "ydhtgtrGzgi6"
      }
    },
    {
      "cell_type": "code",
      "source": [
        "import pandas as pd\n",
        "import numpy as np\n",
        "from os import listdir\n",
        "from os.path import isfile,join"
      ],
      "metadata": {
        "id": "UWWvDGkFze9n"
      },
      "execution_count": null,
      "outputs": []
    },
    {
      "cell_type": "code",
      "source": [
        "filepath=\"/content/data_Q1_2022\"\n",
        "files=[f for f in listdir(filepath) if isfile(join(filepath,f))]\n",
        "files=[f for f in files if \"csv\" in f and f.startswith(\"2022-03-30\")]\n",
        "len(files)"
      ],
      "metadata": {
        "colab": {
          "base_uri": "https://localhost:8080/"
        },
        "id": "aueoIFRozpmT",
        "outputId": "c1196278-91f0-4d20-fdc4-23a607937ded"
      },
      "execution_count": null,
      "outputs": [
        {
          "output_type": "execute_result",
          "data": {
            "text/plain": [
              "1"
            ]
          },
          "metadata": {},
          "execution_count": 9
        }
      ]
    },
    {
      "cell_type": "code",
      "source": [
        "def drop_columns():\n",
        "  data=pd.read_csv(filepath+\"/2022-01-01.csv\")\n",
        "  drop=[]\n",
        "  for i in data.columns:\n",
        "    if \"normalized\" in i:\n",
        "      drop.append(i)\n",
        "  return drop "
      ],
      "metadata": {
        "id": "bHgxIlW30S5b"
      },
      "execution_count": null,
      "outputs": []
    },
    {
      "cell_type": "code",
      "source": [
        "drop_names=drop_columns()"
      ],
      "metadata": {
        "id": "8UiEwRWs6pV5"
      },
      "execution_count": null,
      "outputs": []
    },
    {
      "cell_type": "code",
      "source": [
        "master=[]"
      ],
      "metadata": {
        "id": "gOV5DC2363FL"
      },
      "execution_count": null,
      "outputs": []
    },
    {
      "cell_type": "code",
      "source": [
        "# Concating all data into one master dataframe\n",
        "for file_name in files:\n",
        "  data=pd.read_csv(filepath+\"/\"+file_name)\n",
        "  data.drop(drop_names,axis=1,inplace=True)\n",
        "  master.append(data.copy())\n",
        "  print(\"{} added to master_list\".format(file_name))"
      ],
      "metadata": {
        "colab": {
          "base_uri": "https://localhost:8080/"
        },
        "id": "BeWOg0dZ0_mZ",
        "outputId": "a62861ef-8437-4d1d-aa69-32712e868c23"
      },
      "execution_count": null,
      "outputs": [
        {
          "output_type": "stream",
          "name": "stdout",
          "text": [
            "2022-03-30.csv added to master_list\n"
          ]
        }
      ]
    },
    {
      "cell_type": "code",
      "source": [
        "master_df = pd.concat(master)\n",
        "master_df.shape"
      ],
      "metadata": {
        "colab": {
          "base_uri": "https://localhost:8080/"
        },
        "id": "rgAwBNXs7n92",
        "outputId": "3525fcb3-b1a4-4c87-f009-f04ecd680eac"
      },
      "execution_count": null,
      "outputs": [
        {
          "output_type": "execute_result",
          "data": {
            "text/plain": [
              "(211729, 92)"
            ]
          },
          "metadata": {},
          "execution_count": 14
        }
      ]
    },
    {
      "cell_type": "code",
      "source": [
        "del data"
      ],
      "metadata": {
        "id": "F1xo9ps2FcMl"
      },
      "execution_count": null,
      "outputs": []
    },
    {
      "cell_type": "code",
      "source": [
        "# determine the count of each model in entire dataset\n",
        "count=master_df[\"model\"]\n",
        "count=count.value_counts().to_frame()\n",
        "count.columns=[\"count\"]\n",
        "count['name']=count.index\n",
        "count.reset_index(drop=True)\n",
        "count.shape"
      ],
      "metadata": {
        "colab": {
          "base_uri": "https://localhost:8080/"
        },
        "id": "pguprQhSANZU",
        "outputId": "c0e2c145-d852-430c-c6df-33cfee835f5b"
      },
      "execution_count": null,
      "outputs": [
        {
          "output_type": "execute_result",
          "data": {
            "text/plain": [
              "(69, 2)"
            ]
          },
          "metadata": {},
          "execution_count": 16
        }
      ]
    },
    {
      "cell_type": "code",
      "source": [
        "# determine the failure_count of each model in entire dataset\n",
        "failure_counts=master_df[master_df[\"failure\"]==1].groupby([\"model\"]).agg({'model':'count'})\n",
        "failure_counts.columns=[\"failed_count\"]\n",
        "failure_counts['name']=failure_counts.index\n",
        "failure_counts=failure_counts.reset_index(drop=True)\n",
        "failure_counts.shape"
      ],
      "metadata": {
        "colab": {
          "base_uri": "https://localhost:8080/"
        },
        "id": "mrwA65AKAfED",
        "outputId": "c120f0bb-b321-4789-a3cb-b4f6d867f12e"
      },
      "execution_count": null,
      "outputs": [
        {
          "output_type": "execute_result",
          "data": {
            "text/plain": [
              "(3, 2)"
            ]
          },
          "metadata": {},
          "execution_count": 17
        }
      ]
    },
    {
      "cell_type": "code",
      "source": [
        "# determine the no_failure_count of each model in entire dataset\n",
        "no_failure_counts = master_df[master_df[\"failure\"]==0].groupby([\"model\"]).agg({'model':'count'})\n",
        "no_failure_counts.columns = [\"no_failed_count\"]\n",
        "no_failure_counts['name'] = no_failure_counts.index\n",
        "no_failure_counts = no_failure_counts.reset_index(drop=True)\n",
        "no_failure_counts.shape"
      ],
      "metadata": {
        "colab": {
          "base_uri": "https://localhost:8080/"
        },
        "id": "mZO2BDzxApWV",
        "outputId": "418ee224-08c0-4df1-c8c3-537c5088eaa6"
      },
      "execution_count": null,
      "outputs": [
        {
          "output_type": "execute_result",
          "data": {
            "text/plain": [
              "(69, 2)"
            ]
          },
          "metadata": {},
          "execution_count": 18
        }
      ]
    },
    {
      "cell_type": "code",
      "source": [
        "# combine no_failure_counts and failure_counts into one df\n",
        "merged_level_1 = pd.merge(no_failure_counts, failure_counts, left_on='name', right_on='name', how=\"left\")\n",
        "merged_level_1"
      ],
      "metadata": {
        "colab": {
          "base_uri": "https://localhost:8080/",
          "height": 424
        },
        "id": "t-novrJnGdru",
        "outputId": "a2abca72-9d22-41b0-ef25-0854232dd94d"
      },
      "execution_count": null,
      "outputs": [
        {
          "output_type": "execute_result",
          "data": {
            "text/plain": [
              "    no_failed_count                  name  failed_count\n",
              "0               174        CT250MX500SSD1           NaN\n",
              "1               290           DELLBOSS VD           NaN\n",
              "2                26  HGST HDS5C4040ALE630           NaN\n",
              "3                 1  HGST HDS724040ALE640           NaN\n",
              "4              3529  HGST HMS5C4040ALE640           2.0\n",
              "..              ...                   ...           ...\n",
              "64                3          WDC WD60EFRX           NaN\n",
              "65               40       WDC WDS250G2B0A           NaN\n",
              "66             8269   WDC WUH721414ALE6L4           NaN\n",
              "67             2500   WDC WUH721816ALE6L0           NaN\n",
              "68             1180   WDC WUH721816ALE6L4           NaN\n",
              "\n",
              "[69 rows x 3 columns]"
            ],
            "text/html": [
              "\n",
              "  <div id=\"df-bdc8e1cc-efa7-4e4a-baf4-a6128fa4f026\">\n",
              "    <div class=\"colab-df-container\">\n",
              "      <div>\n",
              "<style scoped>\n",
              "    .dataframe tbody tr th:only-of-type {\n",
              "        vertical-align: middle;\n",
              "    }\n",
              "\n",
              "    .dataframe tbody tr th {\n",
              "        vertical-align: top;\n",
              "    }\n",
              "\n",
              "    .dataframe thead th {\n",
              "        text-align: right;\n",
              "    }\n",
              "</style>\n",
              "<table border=\"1\" class=\"dataframe\">\n",
              "  <thead>\n",
              "    <tr style=\"text-align: right;\">\n",
              "      <th></th>\n",
              "      <th>no_failed_count</th>\n",
              "      <th>name</th>\n",
              "      <th>failed_count</th>\n",
              "    </tr>\n",
              "  </thead>\n",
              "  <tbody>\n",
              "    <tr>\n",
              "      <th>0</th>\n",
              "      <td>174</td>\n",
              "      <td>CT250MX500SSD1</td>\n",
              "      <td>NaN</td>\n",
              "    </tr>\n",
              "    <tr>\n",
              "      <th>1</th>\n",
              "      <td>290</td>\n",
              "      <td>DELLBOSS VD</td>\n",
              "      <td>NaN</td>\n",
              "    </tr>\n",
              "    <tr>\n",
              "      <th>2</th>\n",
              "      <td>26</td>\n",
              "      <td>HGST HDS5C4040ALE630</td>\n",
              "      <td>NaN</td>\n",
              "    </tr>\n",
              "    <tr>\n",
              "      <th>3</th>\n",
              "      <td>1</td>\n",
              "      <td>HGST HDS724040ALE640</td>\n",
              "      <td>NaN</td>\n",
              "    </tr>\n",
              "    <tr>\n",
              "      <th>4</th>\n",
              "      <td>3529</td>\n",
              "      <td>HGST HMS5C4040ALE640</td>\n",
              "      <td>2.0</td>\n",
              "    </tr>\n",
              "    <tr>\n",
              "      <th>...</th>\n",
              "      <td>...</td>\n",
              "      <td>...</td>\n",
              "      <td>...</td>\n",
              "    </tr>\n",
              "    <tr>\n",
              "      <th>64</th>\n",
              "      <td>3</td>\n",
              "      <td>WDC WD60EFRX</td>\n",
              "      <td>NaN</td>\n",
              "    </tr>\n",
              "    <tr>\n",
              "      <th>65</th>\n",
              "      <td>40</td>\n",
              "      <td>WDC WDS250G2B0A</td>\n",
              "      <td>NaN</td>\n",
              "    </tr>\n",
              "    <tr>\n",
              "      <th>66</th>\n",
              "      <td>8269</td>\n",
              "      <td>WDC WUH721414ALE6L4</td>\n",
              "      <td>NaN</td>\n",
              "    </tr>\n",
              "    <tr>\n",
              "      <th>67</th>\n",
              "      <td>2500</td>\n",
              "      <td>WDC WUH721816ALE6L0</td>\n",
              "      <td>NaN</td>\n",
              "    </tr>\n",
              "    <tr>\n",
              "      <th>68</th>\n",
              "      <td>1180</td>\n",
              "      <td>WDC WUH721816ALE6L4</td>\n",
              "      <td>NaN</td>\n",
              "    </tr>\n",
              "  </tbody>\n",
              "</table>\n",
              "<p>69 rows × 3 columns</p>\n",
              "</div>\n",
              "      <button class=\"colab-df-convert\" onclick=\"convertToInteractive('df-bdc8e1cc-efa7-4e4a-baf4-a6128fa4f026')\"\n",
              "              title=\"Convert this dataframe to an interactive table.\"\n",
              "              style=\"display:none;\">\n",
              "        \n",
              "  <svg xmlns=\"http://www.w3.org/2000/svg\" height=\"24px\"viewBox=\"0 0 24 24\"\n",
              "       width=\"24px\">\n",
              "    <path d=\"M0 0h24v24H0V0z\" fill=\"none\"/>\n",
              "    <path d=\"M18.56 5.44l.94 2.06.94-2.06 2.06-.94-2.06-.94-.94-2.06-.94 2.06-2.06.94zm-11 1L8.5 8.5l.94-2.06 2.06-.94-2.06-.94L8.5 2.5l-.94 2.06-2.06.94zm10 10l.94 2.06.94-2.06 2.06-.94-2.06-.94-.94-2.06-.94 2.06-2.06.94z\"/><path d=\"M17.41 7.96l-1.37-1.37c-.4-.4-.92-.59-1.43-.59-.52 0-1.04.2-1.43.59L10.3 9.45l-7.72 7.72c-.78.78-.78 2.05 0 2.83L4 21.41c.39.39.9.59 1.41.59.51 0 1.02-.2 1.41-.59l7.78-7.78 2.81-2.81c.8-.78.8-2.07 0-2.86zM5.41 20L4 18.59l7.72-7.72 1.47 1.35L5.41 20z\"/>\n",
              "  </svg>\n",
              "      </button>\n",
              "      \n",
              "  <style>\n",
              "    .colab-df-container {\n",
              "      display:flex;\n",
              "      flex-wrap:wrap;\n",
              "      gap: 12px;\n",
              "    }\n",
              "\n",
              "    .colab-df-convert {\n",
              "      background-color: #E8F0FE;\n",
              "      border: none;\n",
              "      border-radius: 50%;\n",
              "      cursor: pointer;\n",
              "      display: none;\n",
              "      fill: #1967D2;\n",
              "      height: 32px;\n",
              "      padding: 0 0 0 0;\n",
              "      width: 32px;\n",
              "    }\n",
              "\n",
              "    .colab-df-convert:hover {\n",
              "      background-color: #E2EBFA;\n",
              "      box-shadow: 0px 1px 2px rgba(60, 64, 67, 0.3), 0px 1px 3px 1px rgba(60, 64, 67, 0.15);\n",
              "      fill: #174EA6;\n",
              "    }\n",
              "\n",
              "    [theme=dark] .colab-df-convert {\n",
              "      background-color: #3B4455;\n",
              "      fill: #D2E3FC;\n",
              "    }\n",
              "\n",
              "    [theme=dark] .colab-df-convert:hover {\n",
              "      background-color: #434B5C;\n",
              "      box-shadow: 0px 1px 3px 1px rgba(0, 0, 0, 0.15);\n",
              "      filter: drop-shadow(0px 1px 2px rgba(0, 0, 0, 0.3));\n",
              "      fill: #FFFFFF;\n",
              "    }\n",
              "  </style>\n",
              "\n",
              "      <script>\n",
              "        const buttonEl =\n",
              "          document.querySelector('#df-bdc8e1cc-efa7-4e4a-baf4-a6128fa4f026 button.colab-df-convert');\n",
              "        buttonEl.style.display =\n",
              "          google.colab.kernel.accessAllowed ? 'block' : 'none';\n",
              "\n",
              "        async function convertToInteractive(key) {\n",
              "          const element = document.querySelector('#df-bdc8e1cc-efa7-4e4a-baf4-a6128fa4f026');\n",
              "          const dataTable =\n",
              "            await google.colab.kernel.invokeFunction('convertToInteractive',\n",
              "                                                     [key], {});\n",
              "          if (!dataTable) return;\n",
              "\n",
              "          const docLinkHtml = 'Like what you see? Visit the ' +\n",
              "            '<a target=\"_blank\" href=https://colab.research.google.com/notebooks/data_table.ipynb>data table notebook</a>'\n",
              "            + ' to learn more about interactive tables.';\n",
              "          element.innerHTML = '';\n",
              "          dataTable['output_type'] = 'display_data';\n",
              "          await google.colab.output.renderOutput(dataTable, element);\n",
              "          const docLink = document.createElement('div');\n",
              "          docLink.innerHTML = docLinkHtml;\n",
              "          element.appendChild(docLink);\n",
              "        }\n",
              "      </script>\n",
              "    </div>\n",
              "  </div>\n",
              "  "
            ]
          },
          "metadata": {},
          "execution_count": 19
        }
      ]
    },
    {
      "cell_type": "code",
      "source": [
        "# combine models_count and failure_counts into one df\n",
        "merged_level_2 = pd.merge(count, merged_level_1, left_on='name', right_on='name', how=\"left\")\n",
        "merged_level_2 = merged_level_2.fillna(0)\n",
        "merged_level_2[\"failed_count\"] = merged_level_2[\"failed_count\"].astype('int32')\n",
        "merged_level_2 = merged_level_2.sort_values(by='failed_count', ascending=False)\n",
        "merged_level_2"
      ],
      "metadata": {
        "colab": {
          "base_uri": "https://localhost:8080/",
          "height": 424
        },
        "id": "OHhgc-8SGh2o",
        "outputId": "fd4a1c46-f5a9-45be-c4e3-5bc107a16926"
      },
      "execution_count": null,
      "outputs": [
        {
          "output_type": "execute_result",
          "data": {
            "text/plain": [
              "    count                  name  no_failed_count  failed_count\n",
              "0   38211   TOSHIBA MG07ACA14TA            38208             3\n",
              "13   3531  HGST HMS5C4040ALE640             3529             2\n",
              "10   9679           ST8000DM002             9678             1\n",
              "52     20           ST4000DM004               20             0\n",
              "50     25           ST8000DM005               25             0\n",
              "..    ...                   ...              ...           ...\n",
              "30    234            ST500LM030              234             0\n",
              "31    194        WDC WD5000LPVX              194             0\n",
              "32    174        CT250MX500SSD1              174             0\n",
              "33    139  WDC  WUH721414ALE6L4              139             0\n",
              "68      1           ST6000DM004                1             0\n",
              "\n",
              "[69 rows x 4 columns]"
            ],
            "text/html": [
              "\n",
              "  <div id=\"df-0e6ff7fa-3456-4931-a663-080910d0496d\">\n",
              "    <div class=\"colab-df-container\">\n",
              "      <div>\n",
              "<style scoped>\n",
              "    .dataframe tbody tr th:only-of-type {\n",
              "        vertical-align: middle;\n",
              "    }\n",
              "\n",
              "    .dataframe tbody tr th {\n",
              "        vertical-align: top;\n",
              "    }\n",
              "\n",
              "    .dataframe thead th {\n",
              "        text-align: right;\n",
              "    }\n",
              "</style>\n",
              "<table border=\"1\" class=\"dataframe\">\n",
              "  <thead>\n",
              "    <tr style=\"text-align: right;\">\n",
              "      <th></th>\n",
              "      <th>count</th>\n",
              "      <th>name</th>\n",
              "      <th>no_failed_count</th>\n",
              "      <th>failed_count</th>\n",
              "    </tr>\n",
              "  </thead>\n",
              "  <tbody>\n",
              "    <tr>\n",
              "      <th>0</th>\n",
              "      <td>38211</td>\n",
              "      <td>TOSHIBA MG07ACA14TA</td>\n",
              "      <td>38208</td>\n",
              "      <td>3</td>\n",
              "    </tr>\n",
              "    <tr>\n",
              "      <th>13</th>\n",
              "      <td>3531</td>\n",
              "      <td>HGST HMS5C4040ALE640</td>\n",
              "      <td>3529</td>\n",
              "      <td>2</td>\n",
              "    </tr>\n",
              "    <tr>\n",
              "      <th>10</th>\n",
              "      <td>9679</td>\n",
              "      <td>ST8000DM002</td>\n",
              "      <td>9678</td>\n",
              "      <td>1</td>\n",
              "    </tr>\n",
              "    <tr>\n",
              "      <th>52</th>\n",
              "      <td>20</td>\n",
              "      <td>ST4000DM004</td>\n",
              "      <td>20</td>\n",
              "      <td>0</td>\n",
              "    </tr>\n",
              "    <tr>\n",
              "      <th>50</th>\n",
              "      <td>25</td>\n",
              "      <td>ST8000DM005</td>\n",
              "      <td>25</td>\n",
              "      <td>0</td>\n",
              "    </tr>\n",
              "    <tr>\n",
              "      <th>...</th>\n",
              "      <td>...</td>\n",
              "      <td>...</td>\n",
              "      <td>...</td>\n",
              "      <td>...</td>\n",
              "    </tr>\n",
              "    <tr>\n",
              "      <th>30</th>\n",
              "      <td>234</td>\n",
              "      <td>ST500LM030</td>\n",
              "      <td>234</td>\n",
              "      <td>0</td>\n",
              "    </tr>\n",
              "    <tr>\n",
              "      <th>31</th>\n",
              "      <td>194</td>\n",
              "      <td>WDC WD5000LPVX</td>\n",
              "      <td>194</td>\n",
              "      <td>0</td>\n",
              "    </tr>\n",
              "    <tr>\n",
              "      <th>32</th>\n",
              "      <td>174</td>\n",
              "      <td>CT250MX500SSD1</td>\n",
              "      <td>174</td>\n",
              "      <td>0</td>\n",
              "    </tr>\n",
              "    <tr>\n",
              "      <th>33</th>\n",
              "      <td>139</td>\n",
              "      <td>WDC  WUH721414ALE6L4</td>\n",
              "      <td>139</td>\n",
              "      <td>0</td>\n",
              "    </tr>\n",
              "    <tr>\n",
              "      <th>68</th>\n",
              "      <td>1</td>\n",
              "      <td>ST6000DM004</td>\n",
              "      <td>1</td>\n",
              "      <td>0</td>\n",
              "    </tr>\n",
              "  </tbody>\n",
              "</table>\n",
              "<p>69 rows × 4 columns</p>\n",
              "</div>\n",
              "      <button class=\"colab-df-convert\" onclick=\"convertToInteractive('df-0e6ff7fa-3456-4931-a663-080910d0496d')\"\n",
              "              title=\"Convert this dataframe to an interactive table.\"\n",
              "              style=\"display:none;\">\n",
              "        \n",
              "  <svg xmlns=\"http://www.w3.org/2000/svg\" height=\"24px\"viewBox=\"0 0 24 24\"\n",
              "       width=\"24px\">\n",
              "    <path d=\"M0 0h24v24H0V0z\" fill=\"none\"/>\n",
              "    <path d=\"M18.56 5.44l.94 2.06.94-2.06 2.06-.94-2.06-.94-.94-2.06-.94 2.06-2.06.94zm-11 1L8.5 8.5l.94-2.06 2.06-.94-2.06-.94L8.5 2.5l-.94 2.06-2.06.94zm10 10l.94 2.06.94-2.06 2.06-.94-2.06-.94-.94-2.06-.94 2.06-2.06.94z\"/><path d=\"M17.41 7.96l-1.37-1.37c-.4-.4-.92-.59-1.43-.59-.52 0-1.04.2-1.43.59L10.3 9.45l-7.72 7.72c-.78.78-.78 2.05 0 2.83L4 21.41c.39.39.9.59 1.41.59.51 0 1.02-.2 1.41-.59l7.78-7.78 2.81-2.81c.8-.78.8-2.07 0-2.86zM5.41 20L4 18.59l7.72-7.72 1.47 1.35L5.41 20z\"/>\n",
              "  </svg>\n",
              "      </button>\n",
              "      \n",
              "  <style>\n",
              "    .colab-df-container {\n",
              "      display:flex;\n",
              "      flex-wrap:wrap;\n",
              "      gap: 12px;\n",
              "    }\n",
              "\n",
              "    .colab-df-convert {\n",
              "      background-color: #E8F0FE;\n",
              "      border: none;\n",
              "      border-radius: 50%;\n",
              "      cursor: pointer;\n",
              "      display: none;\n",
              "      fill: #1967D2;\n",
              "      height: 32px;\n",
              "      padding: 0 0 0 0;\n",
              "      width: 32px;\n",
              "    }\n",
              "\n",
              "    .colab-df-convert:hover {\n",
              "      background-color: #E2EBFA;\n",
              "      box-shadow: 0px 1px 2px rgba(60, 64, 67, 0.3), 0px 1px 3px 1px rgba(60, 64, 67, 0.15);\n",
              "      fill: #174EA6;\n",
              "    }\n",
              "\n",
              "    [theme=dark] .colab-df-convert {\n",
              "      background-color: #3B4455;\n",
              "      fill: #D2E3FC;\n",
              "    }\n",
              "\n",
              "    [theme=dark] .colab-df-convert:hover {\n",
              "      background-color: #434B5C;\n",
              "      box-shadow: 0px 1px 3px 1px rgba(0, 0, 0, 0.15);\n",
              "      filter: drop-shadow(0px 1px 2px rgba(0, 0, 0, 0.3));\n",
              "      fill: #FFFFFF;\n",
              "    }\n",
              "  </style>\n",
              "\n",
              "      <script>\n",
              "        const buttonEl =\n",
              "          document.querySelector('#df-0e6ff7fa-3456-4931-a663-080910d0496d button.colab-df-convert');\n",
              "        buttonEl.style.display =\n",
              "          google.colab.kernel.accessAllowed ? 'block' : 'none';\n",
              "\n",
              "        async function convertToInteractive(key) {\n",
              "          const element = document.querySelector('#df-0e6ff7fa-3456-4931-a663-080910d0496d');\n",
              "          const dataTable =\n",
              "            await google.colab.kernel.invokeFunction('convertToInteractive',\n",
              "                                                     [key], {});\n",
              "          if (!dataTable) return;\n",
              "\n",
              "          const docLinkHtml = 'Like what you see? Visit the ' +\n",
              "            '<a target=\"_blank\" href=https://colab.research.google.com/notebooks/data_table.ipynb>data table notebook</a>'\n",
              "            + ' to learn more about interactive tables.';\n",
              "          element.innerHTML = '';\n",
              "          dataTable['output_type'] = 'display_data';\n",
              "          await google.colab.output.renderOutput(dataTable, element);\n",
              "          const docLink = document.createElement('div');\n",
              "          docLink.innerHTML = docLinkHtml;\n",
              "          element.appendChild(docLink);\n",
              "        }\n",
              "      </script>\n",
              "    </div>\n",
              "  </div>\n",
              "  "
            ]
          },
          "metadata": {},
          "execution_count": 20
        }
      ]
    },
    {
      "cell_type": "code",
      "source": [
        "# To drop columns with more than 50% of NaN values\n",
        "perc=50 \n",
        "min_count=int(((100-perc)/100)*master_df.shape[0] + 1)\n",
        "m1=master_df.dropna(axis=1,thresh=min_count)"
      ],
      "metadata": {
        "id": "Sx5nVy4M21q1"
      },
      "execution_count": null,
      "outputs": []
    },
    {
      "cell_type": "code",
      "source": [
        "m1=m1.dropna(axis=1,how='all')# dropping the columns with NaN values\n",
        "m1=m1.dropna()# drops all rows with even one NaN\n",
        "m1"
      ],
      "metadata": {
        "colab": {
          "base_uri": "https://localhost:8080/",
          "height": 488
        },
        "id": "isfW2bk7Gjao",
        "outputId": "6bef103e-dbda-4e96-c89a-bd84439b2ec3"
      },
      "execution_count": null,
      "outputs": [
        {
          "output_type": "execute_result",
          "data": {
            "text/plain": [
              "              date serial_number          model  capacity_bytes  failure  \\\n",
              "0       2022-03-30      ZLW18P9K  ST14000NM001G  14000519643136        0   \n",
              "1       2022-03-30      ZLW0EGC7  ST12000NM001G  12000138625024        0   \n",
              "2       2022-03-30      ZA1FLE1P   ST8000NM0055   8001563222016        0   \n",
              "3       2022-03-30      ZA16NQJR   ST8000NM0055   8001563222016        0   \n",
              "6       2022-03-30      ZA130TTW    ST8000DM002   8001563222016        0   \n",
              "...            ...           ...            ...             ...      ...   \n",
              "211721  2022-03-30      ZLW18MKQ  ST14000NM001G  14000519643136        0   \n",
              "211723  2022-03-30      ZA10MCEQ    ST8000DM002   8001563222016        0   \n",
              "211724  2022-03-30      ZL2MMFJD  ST16000NM001G  16000900661248        0   \n",
              "211725  2022-03-30      ZA13ZBCT    ST8000DM002   8001563222016        0   \n",
              "211726  2022-03-30      ZHZ3QPZX  ST12000NM0008  12000138625024        0   \n",
              "\n",
              "        smart_1_raw  smart_3_raw  smart_4_raw  smart_5_raw   smart_7_raw  ...  \\\n",
              "0        96552936.0          0.0         12.0          0.0  8.650780e+08  ...   \n",
              "1         8644208.0          0.0          1.0          0.0  2.518068e+08  ...   \n",
              "2       203828848.0          0.0          8.0          0.0  2.175105e+09  ...   \n",
              "3       234146156.0          0.0         11.0          0.0  1.743098e+09  ...   \n",
              "6        42741208.0          0.0          3.0          0.0  2.474204e+08  ...   \n",
              "...             ...          ...          ...          ...           ...  ...   \n",
              "211721   21215640.0          0.0          4.0          0.0  1.082522e+08  ...   \n",
              "211723  161316224.0          0.0          4.0          8.0  1.479313e+09  ...   \n",
              "211724   82379376.0          0.0         10.0          0.0  9.704861e+07  ...   \n",
              "211725  192428416.0          0.0         11.0          0.0  3.437587e+09  ...   \n",
              "211726  138020064.0          0.0         13.0          0.0  1.406820e+08  ...   \n",
              "\n",
              "        smart_12_raw  smart_192_raw  smart_193_raw  smart_194_raw  \\\n",
              "0               12.0            2.0         2729.0           32.0   \n",
              "1                1.0            0.0         3928.0           48.0   \n",
              "2                8.0          126.0          786.0           38.0   \n",
              "3               11.0           16.0        65774.0           34.0   \n",
              "6                3.0            0.0        54592.0           30.0   \n",
              "...              ...            ...            ...            ...   \n",
              "211721           4.0            1.0         2655.0           33.0   \n",
              "211723           4.0          128.0          245.0           24.0   \n",
              "211724          10.0            4.0         3160.0           29.0   \n",
              "211725          11.0            1.0        62166.0           24.0   \n",
              "211726          12.0           43.0          981.0           24.0   \n",
              "\n",
              "        smart_197_raw  smart_198_raw  smart_199_raw  smart_240_raw  \\\n",
              "0                 0.0            0.0            0.0        11527.0   \n",
              "1                 0.0            0.0            0.0        14644.0   \n",
              "2                 0.0            0.0            0.0        14842.0   \n",
              "3                 0.0            0.0            0.0        43042.0   \n",
              "6                 0.0            0.0            0.0        48127.0   \n",
              "...               ...            ...            ...            ...   \n",
              "211721            0.0            0.0            0.0        11550.0   \n",
              "211723            0.0            0.0            0.0        50570.0   \n",
              "211724            0.0            0.0            0.0          960.0   \n",
              "211725            0.0            0.0            0.0        46669.0   \n",
              "211726            0.0            0.0            0.0        21537.0   \n",
              "\n",
              "        smart_241_raw  smart_242_raw  \n",
              "0        8.225605e+10   1.663762e+11  \n",
              "1        7.517471e+10   1.909477e+11  \n",
              "2        2.865268e+10   2.769260e+11  \n",
              "3        8.532206e+10   3.213819e+11  \n",
              "6        9.514963e+10   3.546683e+11  \n",
              "...               ...            ...  \n",
              "211721   8.246061e+10   2.007641e+11  \n",
              "211723   1.025729e+11   3.389264e+11  \n",
              "211724   7.294796e+09   8.657829e+09  \n",
              "211725   9.346087e+10   3.432028e+11  \n",
              "211726   8.564871e+10   2.680056e+11  \n",
              "\n",
              "[104308 rows x 22 columns]"
            ],
            "text/html": [
              "\n",
              "  <div id=\"df-20c50aee-dcad-40b7-8307-c722bcf8931a\">\n",
              "    <div class=\"colab-df-container\">\n",
              "      <div>\n",
              "<style scoped>\n",
              "    .dataframe tbody tr th:only-of-type {\n",
              "        vertical-align: middle;\n",
              "    }\n",
              "\n",
              "    .dataframe tbody tr th {\n",
              "        vertical-align: top;\n",
              "    }\n",
              "\n",
              "    .dataframe thead th {\n",
              "        text-align: right;\n",
              "    }\n",
              "</style>\n",
              "<table border=\"1\" class=\"dataframe\">\n",
              "  <thead>\n",
              "    <tr style=\"text-align: right;\">\n",
              "      <th></th>\n",
              "      <th>date</th>\n",
              "      <th>serial_number</th>\n",
              "      <th>model</th>\n",
              "      <th>capacity_bytes</th>\n",
              "      <th>failure</th>\n",
              "      <th>smart_1_raw</th>\n",
              "      <th>smart_3_raw</th>\n",
              "      <th>smart_4_raw</th>\n",
              "      <th>smart_5_raw</th>\n",
              "      <th>smart_7_raw</th>\n",
              "      <th>...</th>\n",
              "      <th>smart_12_raw</th>\n",
              "      <th>smart_192_raw</th>\n",
              "      <th>smart_193_raw</th>\n",
              "      <th>smart_194_raw</th>\n",
              "      <th>smart_197_raw</th>\n",
              "      <th>smart_198_raw</th>\n",
              "      <th>smart_199_raw</th>\n",
              "      <th>smart_240_raw</th>\n",
              "      <th>smart_241_raw</th>\n",
              "      <th>smart_242_raw</th>\n",
              "    </tr>\n",
              "  </thead>\n",
              "  <tbody>\n",
              "    <tr>\n",
              "      <th>0</th>\n",
              "      <td>2022-03-30</td>\n",
              "      <td>ZLW18P9K</td>\n",
              "      <td>ST14000NM001G</td>\n",
              "      <td>14000519643136</td>\n",
              "      <td>0</td>\n",
              "      <td>96552936.0</td>\n",
              "      <td>0.0</td>\n",
              "      <td>12.0</td>\n",
              "      <td>0.0</td>\n",
              "      <td>8.650780e+08</td>\n",
              "      <td>...</td>\n",
              "      <td>12.0</td>\n",
              "      <td>2.0</td>\n",
              "      <td>2729.0</td>\n",
              "      <td>32.0</td>\n",
              "      <td>0.0</td>\n",
              "      <td>0.0</td>\n",
              "      <td>0.0</td>\n",
              "      <td>11527.0</td>\n",
              "      <td>8.225605e+10</td>\n",
              "      <td>1.663762e+11</td>\n",
              "    </tr>\n",
              "    <tr>\n",
              "      <th>1</th>\n",
              "      <td>2022-03-30</td>\n",
              "      <td>ZLW0EGC7</td>\n",
              "      <td>ST12000NM001G</td>\n",
              "      <td>12000138625024</td>\n",
              "      <td>0</td>\n",
              "      <td>8644208.0</td>\n",
              "      <td>0.0</td>\n",
              "      <td>1.0</td>\n",
              "      <td>0.0</td>\n",
              "      <td>2.518068e+08</td>\n",
              "      <td>...</td>\n",
              "      <td>1.0</td>\n",
              "      <td>0.0</td>\n",
              "      <td>3928.0</td>\n",
              "      <td>48.0</td>\n",
              "      <td>0.0</td>\n",
              "      <td>0.0</td>\n",
              "      <td>0.0</td>\n",
              "      <td>14644.0</td>\n",
              "      <td>7.517471e+10</td>\n",
              "      <td>1.909477e+11</td>\n",
              "    </tr>\n",
              "    <tr>\n",
              "      <th>2</th>\n",
              "      <td>2022-03-30</td>\n",
              "      <td>ZA1FLE1P</td>\n",
              "      <td>ST8000NM0055</td>\n",
              "      <td>8001563222016</td>\n",
              "      <td>0</td>\n",
              "      <td>203828848.0</td>\n",
              "      <td>0.0</td>\n",
              "      <td>8.0</td>\n",
              "      <td>0.0</td>\n",
              "      <td>2.175105e+09</td>\n",
              "      <td>...</td>\n",
              "      <td>8.0</td>\n",
              "      <td>126.0</td>\n",
              "      <td>786.0</td>\n",
              "      <td>38.0</td>\n",
              "      <td>0.0</td>\n",
              "      <td>0.0</td>\n",
              "      <td>0.0</td>\n",
              "      <td>14842.0</td>\n",
              "      <td>2.865268e+10</td>\n",
              "      <td>2.769260e+11</td>\n",
              "    </tr>\n",
              "    <tr>\n",
              "      <th>3</th>\n",
              "      <td>2022-03-30</td>\n",
              "      <td>ZA16NQJR</td>\n",
              "      <td>ST8000NM0055</td>\n",
              "      <td>8001563222016</td>\n",
              "      <td>0</td>\n",
              "      <td>234146156.0</td>\n",
              "      <td>0.0</td>\n",
              "      <td>11.0</td>\n",
              "      <td>0.0</td>\n",
              "      <td>1.743098e+09</td>\n",
              "      <td>...</td>\n",
              "      <td>11.0</td>\n",
              "      <td>16.0</td>\n",
              "      <td>65774.0</td>\n",
              "      <td>34.0</td>\n",
              "      <td>0.0</td>\n",
              "      <td>0.0</td>\n",
              "      <td>0.0</td>\n",
              "      <td>43042.0</td>\n",
              "      <td>8.532206e+10</td>\n",
              "      <td>3.213819e+11</td>\n",
              "    </tr>\n",
              "    <tr>\n",
              "      <th>6</th>\n",
              "      <td>2022-03-30</td>\n",
              "      <td>ZA130TTW</td>\n",
              "      <td>ST8000DM002</td>\n",
              "      <td>8001563222016</td>\n",
              "      <td>0</td>\n",
              "      <td>42741208.0</td>\n",
              "      <td>0.0</td>\n",
              "      <td>3.0</td>\n",
              "      <td>0.0</td>\n",
              "      <td>2.474204e+08</td>\n",
              "      <td>...</td>\n",
              "      <td>3.0</td>\n",
              "      <td>0.0</td>\n",
              "      <td>54592.0</td>\n",
              "      <td>30.0</td>\n",
              "      <td>0.0</td>\n",
              "      <td>0.0</td>\n",
              "      <td>0.0</td>\n",
              "      <td>48127.0</td>\n",
              "      <td>9.514963e+10</td>\n",
              "      <td>3.546683e+11</td>\n",
              "    </tr>\n",
              "    <tr>\n",
              "      <th>...</th>\n",
              "      <td>...</td>\n",
              "      <td>...</td>\n",
              "      <td>...</td>\n",
              "      <td>...</td>\n",
              "      <td>...</td>\n",
              "      <td>...</td>\n",
              "      <td>...</td>\n",
              "      <td>...</td>\n",
              "      <td>...</td>\n",
              "      <td>...</td>\n",
              "      <td>...</td>\n",
              "      <td>...</td>\n",
              "      <td>...</td>\n",
              "      <td>...</td>\n",
              "      <td>...</td>\n",
              "      <td>...</td>\n",
              "      <td>...</td>\n",
              "      <td>...</td>\n",
              "      <td>...</td>\n",
              "      <td>...</td>\n",
              "      <td>...</td>\n",
              "    </tr>\n",
              "    <tr>\n",
              "      <th>211721</th>\n",
              "      <td>2022-03-30</td>\n",
              "      <td>ZLW18MKQ</td>\n",
              "      <td>ST14000NM001G</td>\n",
              "      <td>14000519643136</td>\n",
              "      <td>0</td>\n",
              "      <td>21215640.0</td>\n",
              "      <td>0.0</td>\n",
              "      <td>4.0</td>\n",
              "      <td>0.0</td>\n",
              "      <td>1.082522e+08</td>\n",
              "      <td>...</td>\n",
              "      <td>4.0</td>\n",
              "      <td>1.0</td>\n",
              "      <td>2655.0</td>\n",
              "      <td>33.0</td>\n",
              "      <td>0.0</td>\n",
              "      <td>0.0</td>\n",
              "      <td>0.0</td>\n",
              "      <td>11550.0</td>\n",
              "      <td>8.246061e+10</td>\n",
              "      <td>2.007641e+11</td>\n",
              "    </tr>\n",
              "    <tr>\n",
              "      <th>211723</th>\n",
              "      <td>2022-03-30</td>\n",
              "      <td>ZA10MCEQ</td>\n",
              "      <td>ST8000DM002</td>\n",
              "      <td>8001563222016</td>\n",
              "      <td>0</td>\n",
              "      <td>161316224.0</td>\n",
              "      <td>0.0</td>\n",
              "      <td>4.0</td>\n",
              "      <td>8.0</td>\n",
              "      <td>1.479313e+09</td>\n",
              "      <td>...</td>\n",
              "      <td>4.0</td>\n",
              "      <td>128.0</td>\n",
              "      <td>245.0</td>\n",
              "      <td>24.0</td>\n",
              "      <td>0.0</td>\n",
              "      <td>0.0</td>\n",
              "      <td>0.0</td>\n",
              "      <td>50570.0</td>\n",
              "      <td>1.025729e+11</td>\n",
              "      <td>3.389264e+11</td>\n",
              "    </tr>\n",
              "    <tr>\n",
              "      <th>211724</th>\n",
              "      <td>2022-03-30</td>\n",
              "      <td>ZL2MMFJD</td>\n",
              "      <td>ST16000NM001G</td>\n",
              "      <td>16000900661248</td>\n",
              "      <td>0</td>\n",
              "      <td>82379376.0</td>\n",
              "      <td>0.0</td>\n",
              "      <td>10.0</td>\n",
              "      <td>0.0</td>\n",
              "      <td>9.704861e+07</td>\n",
              "      <td>...</td>\n",
              "      <td>10.0</td>\n",
              "      <td>4.0</td>\n",
              "      <td>3160.0</td>\n",
              "      <td>29.0</td>\n",
              "      <td>0.0</td>\n",
              "      <td>0.0</td>\n",
              "      <td>0.0</td>\n",
              "      <td>960.0</td>\n",
              "      <td>7.294796e+09</td>\n",
              "      <td>8.657829e+09</td>\n",
              "    </tr>\n",
              "    <tr>\n",
              "      <th>211725</th>\n",
              "      <td>2022-03-30</td>\n",
              "      <td>ZA13ZBCT</td>\n",
              "      <td>ST8000DM002</td>\n",
              "      <td>8001563222016</td>\n",
              "      <td>0</td>\n",
              "      <td>192428416.0</td>\n",
              "      <td>0.0</td>\n",
              "      <td>11.0</td>\n",
              "      <td>0.0</td>\n",
              "      <td>3.437587e+09</td>\n",
              "      <td>...</td>\n",
              "      <td>11.0</td>\n",
              "      <td>1.0</td>\n",
              "      <td>62166.0</td>\n",
              "      <td>24.0</td>\n",
              "      <td>0.0</td>\n",
              "      <td>0.0</td>\n",
              "      <td>0.0</td>\n",
              "      <td>46669.0</td>\n",
              "      <td>9.346087e+10</td>\n",
              "      <td>3.432028e+11</td>\n",
              "    </tr>\n",
              "    <tr>\n",
              "      <th>211726</th>\n",
              "      <td>2022-03-30</td>\n",
              "      <td>ZHZ3QPZX</td>\n",
              "      <td>ST12000NM0008</td>\n",
              "      <td>12000138625024</td>\n",
              "      <td>0</td>\n",
              "      <td>138020064.0</td>\n",
              "      <td>0.0</td>\n",
              "      <td>13.0</td>\n",
              "      <td>0.0</td>\n",
              "      <td>1.406820e+08</td>\n",
              "      <td>...</td>\n",
              "      <td>12.0</td>\n",
              "      <td>43.0</td>\n",
              "      <td>981.0</td>\n",
              "      <td>24.0</td>\n",
              "      <td>0.0</td>\n",
              "      <td>0.0</td>\n",
              "      <td>0.0</td>\n",
              "      <td>21537.0</td>\n",
              "      <td>8.564871e+10</td>\n",
              "      <td>2.680056e+11</td>\n",
              "    </tr>\n",
              "  </tbody>\n",
              "</table>\n",
              "<p>104308 rows × 22 columns</p>\n",
              "</div>\n",
              "      <button class=\"colab-df-convert\" onclick=\"convertToInteractive('df-20c50aee-dcad-40b7-8307-c722bcf8931a')\"\n",
              "              title=\"Convert this dataframe to an interactive table.\"\n",
              "              style=\"display:none;\">\n",
              "        \n",
              "  <svg xmlns=\"http://www.w3.org/2000/svg\" height=\"24px\"viewBox=\"0 0 24 24\"\n",
              "       width=\"24px\">\n",
              "    <path d=\"M0 0h24v24H0V0z\" fill=\"none\"/>\n",
              "    <path d=\"M18.56 5.44l.94 2.06.94-2.06 2.06-.94-2.06-.94-.94-2.06-.94 2.06-2.06.94zm-11 1L8.5 8.5l.94-2.06 2.06-.94-2.06-.94L8.5 2.5l-.94 2.06-2.06.94zm10 10l.94 2.06.94-2.06 2.06-.94-2.06-.94-.94-2.06-.94 2.06-2.06.94z\"/><path d=\"M17.41 7.96l-1.37-1.37c-.4-.4-.92-.59-1.43-.59-.52 0-1.04.2-1.43.59L10.3 9.45l-7.72 7.72c-.78.78-.78 2.05 0 2.83L4 21.41c.39.39.9.59 1.41.59.51 0 1.02-.2 1.41-.59l7.78-7.78 2.81-2.81c.8-.78.8-2.07 0-2.86zM5.41 20L4 18.59l7.72-7.72 1.47 1.35L5.41 20z\"/>\n",
              "  </svg>\n",
              "      </button>\n",
              "      \n",
              "  <style>\n",
              "    .colab-df-container {\n",
              "      display:flex;\n",
              "      flex-wrap:wrap;\n",
              "      gap: 12px;\n",
              "    }\n",
              "\n",
              "    .colab-df-convert {\n",
              "      background-color: #E8F0FE;\n",
              "      border: none;\n",
              "      border-radius: 50%;\n",
              "      cursor: pointer;\n",
              "      display: none;\n",
              "      fill: #1967D2;\n",
              "      height: 32px;\n",
              "      padding: 0 0 0 0;\n",
              "      width: 32px;\n",
              "    }\n",
              "\n",
              "    .colab-df-convert:hover {\n",
              "      background-color: #E2EBFA;\n",
              "      box-shadow: 0px 1px 2px rgba(60, 64, 67, 0.3), 0px 1px 3px 1px rgba(60, 64, 67, 0.15);\n",
              "      fill: #174EA6;\n",
              "    }\n",
              "\n",
              "    [theme=dark] .colab-df-convert {\n",
              "      background-color: #3B4455;\n",
              "      fill: #D2E3FC;\n",
              "    }\n",
              "\n",
              "    [theme=dark] .colab-df-convert:hover {\n",
              "      background-color: #434B5C;\n",
              "      box-shadow: 0px 1px 3px 1px rgba(0, 0, 0, 0.15);\n",
              "      filter: drop-shadow(0px 1px 2px rgba(0, 0, 0, 0.3));\n",
              "      fill: #FFFFFF;\n",
              "    }\n",
              "  </style>\n",
              "\n",
              "      <script>\n",
              "        const buttonEl =\n",
              "          document.querySelector('#df-20c50aee-dcad-40b7-8307-c722bcf8931a button.colab-df-convert');\n",
              "        buttonEl.style.display =\n",
              "          google.colab.kernel.accessAllowed ? 'block' : 'none';\n",
              "\n",
              "        async function convertToInteractive(key) {\n",
              "          const element = document.querySelector('#df-20c50aee-dcad-40b7-8307-c722bcf8931a');\n",
              "          const dataTable =\n",
              "            await google.colab.kernel.invokeFunction('convertToInteractive',\n",
              "                                                     [key], {});\n",
              "          if (!dataTable) return;\n",
              "\n",
              "          const docLinkHtml = 'Like what you see? Visit the ' +\n",
              "            '<a target=\"_blank\" href=https://colab.research.google.com/notebooks/data_table.ipynb>data table notebook</a>'\n",
              "            + ' to learn more about interactive tables.';\n",
              "          element.innerHTML = '';\n",
              "          dataTable['output_type'] = 'display_data';\n",
              "          await google.colab.output.renderOutput(dataTable, element);\n",
              "          const docLink = document.createElement('div');\n",
              "          docLink.innerHTML = docLinkHtml;\n",
              "          element.appendChild(docLink);\n",
              "        }\n",
              "      </script>\n",
              "    </div>\n",
              "  </div>\n",
              "  "
            ]
          },
          "metadata": {},
          "execution_count": 22
        }
      ]
    },
    {
      "cell_type": "code",
      "source": [
        "m1.isnull().sum()"
      ],
      "metadata": {
        "colab": {
          "base_uri": "https://localhost:8080/"
        },
        "id": "SUgJUKajs39N",
        "outputId": "ba8a5ca6-07ba-4498-e0ea-4fc597a45a6c"
      },
      "execution_count": null,
      "outputs": [
        {
          "output_type": "execute_result",
          "data": {
            "text/plain": [
              "date              0\n",
              "serial_number     0\n",
              "model             0\n",
              "capacity_bytes    0\n",
              "failure           0\n",
              "smart_1_raw       0\n",
              "smart_3_raw       0\n",
              "smart_4_raw       0\n",
              "smart_5_raw       0\n",
              "smart_7_raw       0\n",
              "smart_9_raw       0\n",
              "smart_10_raw      0\n",
              "smart_12_raw      0\n",
              "smart_192_raw     0\n",
              "smart_193_raw     0\n",
              "smart_194_raw     0\n",
              "smart_197_raw     0\n",
              "smart_198_raw     0\n",
              "smart_199_raw     0\n",
              "smart_240_raw     0\n",
              "smart_241_raw     0\n",
              "smart_242_raw     0\n",
              "dtype: int64"
            ]
          },
          "metadata": {},
          "execution_count": 23
        }
      ]
    },
    {
      "cell_type": "code",
      "source": [
        "m1.to_csv('preprocessed_data.csv',index = False)"
      ],
      "metadata": {
        "id": "jf8JgZm52qu3"
      },
      "execution_count": null,
      "outputs": []
    },
    {
      "cell_type": "code",
      "source": [
        "m1=pd.read_csv(\"/content/preprocessed_data.csv\")"
      ],
      "metadata": {
        "id": "yLAfpIQGZ-KK"
      },
      "execution_count": null,
      "outputs": []
    },
    {
      "cell_type": "code",
      "source": [
        "csv=m1.columns[m1.nunique()<=1].tolist()"
      ],
      "metadata": {
        "id": "Lq8zwKDzn00P"
      },
      "execution_count": null,
      "outputs": []
    },
    {
      "cell_type": "code",
      "source": [
        "m1=m1.drop(csv,axis=1)\n",
        "m1"
      ],
      "metadata": {
        "colab": {
          "base_uri": "https://localhost:8080/",
          "height": 488
        },
        "id": "mxw2qjxpsDiW",
        "outputId": "c6dae98a-d732-457d-f138-a61d38a275f3"
      },
      "execution_count": null,
      "outputs": [
        {
          "output_type": "execute_result",
          "data": {
            "text/plain": [
              "       serial_number          model  capacity_bytes  failure  smart_1_raw  \\\n",
              "0           ZLW18P9K  ST14000NM001G  14000519643136        0   96552936.0   \n",
              "1           ZLW0EGC7  ST12000NM001G  12000138625024        0    8644208.0   \n",
              "2           ZA1FLE1P   ST8000NM0055   8001563222016        0  203828848.0   \n",
              "3           ZA16NQJR   ST8000NM0055   8001563222016        0  234146156.0   \n",
              "4           ZA130TTW    ST8000DM002   8001563222016        0   42741208.0   \n",
              "...              ...            ...             ...      ...          ...   \n",
              "104303      ZLW18MKQ  ST14000NM001G  14000519643136        0   21215640.0   \n",
              "104304      ZA10MCEQ    ST8000DM002   8001563222016        0  161316224.0   \n",
              "104305      ZL2MMFJD  ST16000NM001G  16000900661248        0   82379376.0   \n",
              "104306      ZA13ZBCT    ST8000DM002   8001563222016        0  192428416.0   \n",
              "104307      ZHZ3QPZX  ST12000NM0008  12000138625024        0  138020064.0   \n",
              "\n",
              "        smart_3_raw  smart_4_raw  smart_5_raw   smart_7_raw  smart_9_raw  \\\n",
              "0               0.0         12.0          0.0  8.650780e+08      12045.0   \n",
              "1               0.0          1.0          0.0  2.518068e+08      15289.0   \n",
              "2               0.0          8.0          0.0  2.175105e+09      14899.0   \n",
              "3               0.0         11.0          0.0  1.743098e+09      43078.0   \n",
              "4               0.0          3.0          0.0  2.474204e+08      48173.0   \n",
              "...             ...          ...          ...           ...          ...   \n",
              "104303          0.0          4.0          0.0  1.082522e+08      12040.0   \n",
              "104304          0.0          4.0          8.0  1.479313e+09      50589.0   \n",
              "104305          0.0         10.0          0.0  9.704861e+07       1628.0   \n",
              "104306          0.0         11.0          0.0  3.437587e+09      46728.0   \n",
              "104307          0.0         13.0          0.0  1.406820e+08      21673.0   \n",
              "\n",
              "        smart_12_raw  smart_192_raw  smart_193_raw  smart_194_raw  \\\n",
              "0               12.0            2.0         2729.0           32.0   \n",
              "1                1.0            0.0         3928.0           48.0   \n",
              "2                8.0          126.0          786.0           38.0   \n",
              "3               11.0           16.0        65774.0           34.0   \n",
              "4                3.0            0.0        54592.0           30.0   \n",
              "...              ...            ...            ...            ...   \n",
              "104303           4.0            1.0         2655.0           33.0   \n",
              "104304           4.0          128.0          245.0           24.0   \n",
              "104305          10.0            4.0         3160.0           29.0   \n",
              "104306          11.0            1.0        62166.0           24.0   \n",
              "104307          12.0           43.0          981.0           24.0   \n",
              "\n",
              "        smart_197_raw  smart_198_raw  smart_199_raw  smart_240_raw  \\\n",
              "0                 0.0            0.0            0.0        11527.0   \n",
              "1                 0.0            0.0            0.0        14644.0   \n",
              "2                 0.0            0.0            0.0        14842.0   \n",
              "3                 0.0            0.0            0.0        43042.0   \n",
              "4                 0.0            0.0            0.0        48127.0   \n",
              "...               ...            ...            ...            ...   \n",
              "104303            0.0            0.0            0.0        11550.0   \n",
              "104304            0.0            0.0            0.0        50570.0   \n",
              "104305            0.0            0.0            0.0          960.0   \n",
              "104306            0.0            0.0            0.0        46669.0   \n",
              "104307            0.0            0.0            0.0        21537.0   \n",
              "\n",
              "        smart_241_raw  smart_242_raw  \n",
              "0        8.225605e+10   1.663762e+11  \n",
              "1        7.517471e+10   1.909477e+11  \n",
              "2        2.865268e+10   2.769260e+11  \n",
              "3        8.532206e+10   3.213819e+11  \n",
              "4        9.514963e+10   3.546683e+11  \n",
              "...               ...            ...  \n",
              "104303   8.246061e+10   2.007641e+11  \n",
              "104304   1.025729e+11   3.389264e+11  \n",
              "104305   7.294796e+09   8.657829e+09  \n",
              "104306   9.346087e+10   3.432028e+11  \n",
              "104307   8.564871e+10   2.680056e+11  \n",
              "\n",
              "[104308 rows x 20 columns]"
            ],
            "text/html": [
              "\n",
              "  <div id=\"df-16d9a99c-aca3-4ba1-9303-2bff3fec13d3\">\n",
              "    <div class=\"colab-df-container\">\n",
              "      <div>\n",
              "<style scoped>\n",
              "    .dataframe tbody tr th:only-of-type {\n",
              "        vertical-align: middle;\n",
              "    }\n",
              "\n",
              "    .dataframe tbody tr th {\n",
              "        vertical-align: top;\n",
              "    }\n",
              "\n",
              "    .dataframe thead th {\n",
              "        text-align: right;\n",
              "    }\n",
              "</style>\n",
              "<table border=\"1\" class=\"dataframe\">\n",
              "  <thead>\n",
              "    <tr style=\"text-align: right;\">\n",
              "      <th></th>\n",
              "      <th>serial_number</th>\n",
              "      <th>model</th>\n",
              "      <th>capacity_bytes</th>\n",
              "      <th>failure</th>\n",
              "      <th>smart_1_raw</th>\n",
              "      <th>smart_3_raw</th>\n",
              "      <th>smart_4_raw</th>\n",
              "      <th>smart_5_raw</th>\n",
              "      <th>smart_7_raw</th>\n",
              "      <th>smart_9_raw</th>\n",
              "      <th>smart_12_raw</th>\n",
              "      <th>smart_192_raw</th>\n",
              "      <th>smart_193_raw</th>\n",
              "      <th>smart_194_raw</th>\n",
              "      <th>smart_197_raw</th>\n",
              "      <th>smart_198_raw</th>\n",
              "      <th>smart_199_raw</th>\n",
              "      <th>smart_240_raw</th>\n",
              "      <th>smart_241_raw</th>\n",
              "      <th>smart_242_raw</th>\n",
              "    </tr>\n",
              "  </thead>\n",
              "  <tbody>\n",
              "    <tr>\n",
              "      <th>0</th>\n",
              "      <td>ZLW18P9K</td>\n",
              "      <td>ST14000NM001G</td>\n",
              "      <td>14000519643136</td>\n",
              "      <td>0</td>\n",
              "      <td>96552936.0</td>\n",
              "      <td>0.0</td>\n",
              "      <td>12.0</td>\n",
              "      <td>0.0</td>\n",
              "      <td>8.650780e+08</td>\n",
              "      <td>12045.0</td>\n",
              "      <td>12.0</td>\n",
              "      <td>2.0</td>\n",
              "      <td>2729.0</td>\n",
              "      <td>32.0</td>\n",
              "      <td>0.0</td>\n",
              "      <td>0.0</td>\n",
              "      <td>0.0</td>\n",
              "      <td>11527.0</td>\n",
              "      <td>8.225605e+10</td>\n",
              "      <td>1.663762e+11</td>\n",
              "    </tr>\n",
              "    <tr>\n",
              "      <th>1</th>\n",
              "      <td>ZLW0EGC7</td>\n",
              "      <td>ST12000NM001G</td>\n",
              "      <td>12000138625024</td>\n",
              "      <td>0</td>\n",
              "      <td>8644208.0</td>\n",
              "      <td>0.0</td>\n",
              "      <td>1.0</td>\n",
              "      <td>0.0</td>\n",
              "      <td>2.518068e+08</td>\n",
              "      <td>15289.0</td>\n",
              "      <td>1.0</td>\n",
              "      <td>0.0</td>\n",
              "      <td>3928.0</td>\n",
              "      <td>48.0</td>\n",
              "      <td>0.0</td>\n",
              "      <td>0.0</td>\n",
              "      <td>0.0</td>\n",
              "      <td>14644.0</td>\n",
              "      <td>7.517471e+10</td>\n",
              "      <td>1.909477e+11</td>\n",
              "    </tr>\n",
              "    <tr>\n",
              "      <th>2</th>\n",
              "      <td>ZA1FLE1P</td>\n",
              "      <td>ST8000NM0055</td>\n",
              "      <td>8001563222016</td>\n",
              "      <td>0</td>\n",
              "      <td>203828848.0</td>\n",
              "      <td>0.0</td>\n",
              "      <td>8.0</td>\n",
              "      <td>0.0</td>\n",
              "      <td>2.175105e+09</td>\n",
              "      <td>14899.0</td>\n",
              "      <td>8.0</td>\n",
              "      <td>126.0</td>\n",
              "      <td>786.0</td>\n",
              "      <td>38.0</td>\n",
              "      <td>0.0</td>\n",
              "      <td>0.0</td>\n",
              "      <td>0.0</td>\n",
              "      <td>14842.0</td>\n",
              "      <td>2.865268e+10</td>\n",
              "      <td>2.769260e+11</td>\n",
              "    </tr>\n",
              "    <tr>\n",
              "      <th>3</th>\n",
              "      <td>ZA16NQJR</td>\n",
              "      <td>ST8000NM0055</td>\n",
              "      <td>8001563222016</td>\n",
              "      <td>0</td>\n",
              "      <td>234146156.0</td>\n",
              "      <td>0.0</td>\n",
              "      <td>11.0</td>\n",
              "      <td>0.0</td>\n",
              "      <td>1.743098e+09</td>\n",
              "      <td>43078.0</td>\n",
              "      <td>11.0</td>\n",
              "      <td>16.0</td>\n",
              "      <td>65774.0</td>\n",
              "      <td>34.0</td>\n",
              "      <td>0.0</td>\n",
              "      <td>0.0</td>\n",
              "      <td>0.0</td>\n",
              "      <td>43042.0</td>\n",
              "      <td>8.532206e+10</td>\n",
              "      <td>3.213819e+11</td>\n",
              "    </tr>\n",
              "    <tr>\n",
              "      <th>4</th>\n",
              "      <td>ZA130TTW</td>\n",
              "      <td>ST8000DM002</td>\n",
              "      <td>8001563222016</td>\n",
              "      <td>0</td>\n",
              "      <td>42741208.0</td>\n",
              "      <td>0.0</td>\n",
              "      <td>3.0</td>\n",
              "      <td>0.0</td>\n",
              "      <td>2.474204e+08</td>\n",
              "      <td>48173.0</td>\n",
              "      <td>3.0</td>\n",
              "      <td>0.0</td>\n",
              "      <td>54592.0</td>\n",
              "      <td>30.0</td>\n",
              "      <td>0.0</td>\n",
              "      <td>0.0</td>\n",
              "      <td>0.0</td>\n",
              "      <td>48127.0</td>\n",
              "      <td>9.514963e+10</td>\n",
              "      <td>3.546683e+11</td>\n",
              "    </tr>\n",
              "    <tr>\n",
              "      <th>...</th>\n",
              "      <td>...</td>\n",
              "      <td>...</td>\n",
              "      <td>...</td>\n",
              "      <td>...</td>\n",
              "      <td>...</td>\n",
              "      <td>...</td>\n",
              "      <td>...</td>\n",
              "      <td>...</td>\n",
              "      <td>...</td>\n",
              "      <td>...</td>\n",
              "      <td>...</td>\n",
              "      <td>...</td>\n",
              "      <td>...</td>\n",
              "      <td>...</td>\n",
              "      <td>...</td>\n",
              "      <td>...</td>\n",
              "      <td>...</td>\n",
              "      <td>...</td>\n",
              "      <td>...</td>\n",
              "      <td>...</td>\n",
              "    </tr>\n",
              "    <tr>\n",
              "      <th>104303</th>\n",
              "      <td>ZLW18MKQ</td>\n",
              "      <td>ST14000NM001G</td>\n",
              "      <td>14000519643136</td>\n",
              "      <td>0</td>\n",
              "      <td>21215640.0</td>\n",
              "      <td>0.0</td>\n",
              "      <td>4.0</td>\n",
              "      <td>0.0</td>\n",
              "      <td>1.082522e+08</td>\n",
              "      <td>12040.0</td>\n",
              "      <td>4.0</td>\n",
              "      <td>1.0</td>\n",
              "      <td>2655.0</td>\n",
              "      <td>33.0</td>\n",
              "      <td>0.0</td>\n",
              "      <td>0.0</td>\n",
              "      <td>0.0</td>\n",
              "      <td>11550.0</td>\n",
              "      <td>8.246061e+10</td>\n",
              "      <td>2.007641e+11</td>\n",
              "    </tr>\n",
              "    <tr>\n",
              "      <th>104304</th>\n",
              "      <td>ZA10MCEQ</td>\n",
              "      <td>ST8000DM002</td>\n",
              "      <td>8001563222016</td>\n",
              "      <td>0</td>\n",
              "      <td>161316224.0</td>\n",
              "      <td>0.0</td>\n",
              "      <td>4.0</td>\n",
              "      <td>8.0</td>\n",
              "      <td>1.479313e+09</td>\n",
              "      <td>50589.0</td>\n",
              "      <td>4.0</td>\n",
              "      <td>128.0</td>\n",
              "      <td>245.0</td>\n",
              "      <td>24.0</td>\n",
              "      <td>0.0</td>\n",
              "      <td>0.0</td>\n",
              "      <td>0.0</td>\n",
              "      <td>50570.0</td>\n",
              "      <td>1.025729e+11</td>\n",
              "      <td>3.389264e+11</td>\n",
              "    </tr>\n",
              "    <tr>\n",
              "      <th>104305</th>\n",
              "      <td>ZL2MMFJD</td>\n",
              "      <td>ST16000NM001G</td>\n",
              "      <td>16000900661248</td>\n",
              "      <td>0</td>\n",
              "      <td>82379376.0</td>\n",
              "      <td>0.0</td>\n",
              "      <td>10.0</td>\n",
              "      <td>0.0</td>\n",
              "      <td>9.704861e+07</td>\n",
              "      <td>1628.0</td>\n",
              "      <td>10.0</td>\n",
              "      <td>4.0</td>\n",
              "      <td>3160.0</td>\n",
              "      <td>29.0</td>\n",
              "      <td>0.0</td>\n",
              "      <td>0.0</td>\n",
              "      <td>0.0</td>\n",
              "      <td>960.0</td>\n",
              "      <td>7.294796e+09</td>\n",
              "      <td>8.657829e+09</td>\n",
              "    </tr>\n",
              "    <tr>\n",
              "      <th>104306</th>\n",
              "      <td>ZA13ZBCT</td>\n",
              "      <td>ST8000DM002</td>\n",
              "      <td>8001563222016</td>\n",
              "      <td>0</td>\n",
              "      <td>192428416.0</td>\n",
              "      <td>0.0</td>\n",
              "      <td>11.0</td>\n",
              "      <td>0.0</td>\n",
              "      <td>3.437587e+09</td>\n",
              "      <td>46728.0</td>\n",
              "      <td>11.0</td>\n",
              "      <td>1.0</td>\n",
              "      <td>62166.0</td>\n",
              "      <td>24.0</td>\n",
              "      <td>0.0</td>\n",
              "      <td>0.0</td>\n",
              "      <td>0.0</td>\n",
              "      <td>46669.0</td>\n",
              "      <td>9.346087e+10</td>\n",
              "      <td>3.432028e+11</td>\n",
              "    </tr>\n",
              "    <tr>\n",
              "      <th>104307</th>\n",
              "      <td>ZHZ3QPZX</td>\n",
              "      <td>ST12000NM0008</td>\n",
              "      <td>12000138625024</td>\n",
              "      <td>0</td>\n",
              "      <td>138020064.0</td>\n",
              "      <td>0.0</td>\n",
              "      <td>13.0</td>\n",
              "      <td>0.0</td>\n",
              "      <td>1.406820e+08</td>\n",
              "      <td>21673.0</td>\n",
              "      <td>12.0</td>\n",
              "      <td>43.0</td>\n",
              "      <td>981.0</td>\n",
              "      <td>24.0</td>\n",
              "      <td>0.0</td>\n",
              "      <td>0.0</td>\n",
              "      <td>0.0</td>\n",
              "      <td>21537.0</td>\n",
              "      <td>8.564871e+10</td>\n",
              "      <td>2.680056e+11</td>\n",
              "    </tr>\n",
              "  </tbody>\n",
              "</table>\n",
              "<p>104308 rows × 20 columns</p>\n",
              "</div>\n",
              "      <button class=\"colab-df-convert\" onclick=\"convertToInteractive('df-16d9a99c-aca3-4ba1-9303-2bff3fec13d3')\"\n",
              "              title=\"Convert this dataframe to an interactive table.\"\n",
              "              style=\"display:none;\">\n",
              "        \n",
              "  <svg xmlns=\"http://www.w3.org/2000/svg\" height=\"24px\"viewBox=\"0 0 24 24\"\n",
              "       width=\"24px\">\n",
              "    <path d=\"M0 0h24v24H0V0z\" fill=\"none\"/>\n",
              "    <path d=\"M18.56 5.44l.94 2.06.94-2.06 2.06-.94-2.06-.94-.94-2.06-.94 2.06-2.06.94zm-11 1L8.5 8.5l.94-2.06 2.06-.94-2.06-.94L8.5 2.5l-.94 2.06-2.06.94zm10 10l.94 2.06.94-2.06 2.06-.94-2.06-.94-.94-2.06-.94 2.06-2.06.94z\"/><path d=\"M17.41 7.96l-1.37-1.37c-.4-.4-.92-.59-1.43-.59-.52 0-1.04.2-1.43.59L10.3 9.45l-7.72 7.72c-.78.78-.78 2.05 0 2.83L4 21.41c.39.39.9.59 1.41.59.51 0 1.02-.2 1.41-.59l7.78-7.78 2.81-2.81c.8-.78.8-2.07 0-2.86zM5.41 20L4 18.59l7.72-7.72 1.47 1.35L5.41 20z\"/>\n",
              "  </svg>\n",
              "      </button>\n",
              "      \n",
              "  <style>\n",
              "    .colab-df-container {\n",
              "      display:flex;\n",
              "      flex-wrap:wrap;\n",
              "      gap: 12px;\n",
              "    }\n",
              "\n",
              "    .colab-df-convert {\n",
              "      background-color: #E8F0FE;\n",
              "      border: none;\n",
              "      border-radius: 50%;\n",
              "      cursor: pointer;\n",
              "      display: none;\n",
              "      fill: #1967D2;\n",
              "      height: 32px;\n",
              "      padding: 0 0 0 0;\n",
              "      width: 32px;\n",
              "    }\n",
              "\n",
              "    .colab-df-convert:hover {\n",
              "      background-color: #E2EBFA;\n",
              "      box-shadow: 0px 1px 2px rgba(60, 64, 67, 0.3), 0px 1px 3px 1px rgba(60, 64, 67, 0.15);\n",
              "      fill: #174EA6;\n",
              "    }\n",
              "\n",
              "    [theme=dark] .colab-df-convert {\n",
              "      background-color: #3B4455;\n",
              "      fill: #D2E3FC;\n",
              "    }\n",
              "\n",
              "    [theme=dark] .colab-df-convert:hover {\n",
              "      background-color: #434B5C;\n",
              "      box-shadow: 0px 1px 3px 1px rgba(0, 0, 0, 0.15);\n",
              "      filter: drop-shadow(0px 1px 2px rgba(0, 0, 0, 0.3));\n",
              "      fill: #FFFFFF;\n",
              "    }\n",
              "  </style>\n",
              "\n",
              "      <script>\n",
              "        const buttonEl =\n",
              "          document.querySelector('#df-16d9a99c-aca3-4ba1-9303-2bff3fec13d3 button.colab-df-convert');\n",
              "        buttonEl.style.display =\n",
              "          google.colab.kernel.accessAllowed ? 'block' : 'none';\n",
              "\n",
              "        async function convertToInteractive(key) {\n",
              "          const element = document.querySelector('#df-16d9a99c-aca3-4ba1-9303-2bff3fec13d3');\n",
              "          const dataTable =\n",
              "            await google.colab.kernel.invokeFunction('convertToInteractive',\n",
              "                                                     [key], {});\n",
              "          if (!dataTable) return;\n",
              "\n",
              "          const docLinkHtml = 'Like what you see? Visit the ' +\n",
              "            '<a target=\"_blank\" href=https://colab.research.google.com/notebooks/data_table.ipynb>data table notebook</a>'\n",
              "            + ' to learn more about interactive tables.';\n",
              "          element.innerHTML = '';\n",
              "          dataTable['output_type'] = 'display_data';\n",
              "          await google.colab.output.renderOutput(dataTable, element);\n",
              "          const docLink = document.createElement('div');\n",
              "          docLink.innerHTML = docLinkHtml;\n",
              "          element.appendChild(docLink);\n",
              "        }\n",
              "      </script>\n",
              "    </div>\n",
              "  </div>\n",
              "  "
            ]
          },
          "metadata": {},
          "execution_count": 27
        }
      ]
    },
    {
      "cell_type": "markdown",
      "source": [
        "# Importing Libraries"
      ],
      "metadata": {
        "id": "0kqcc76a9uQa"
      }
    },
    {
      "cell_type": "code",
      "source": [
        "# Load Packages\n",
        "from time import time\n",
        "from sklearn.ensemble import RandomForestClassifier\n",
        "from xgboost import XGBClassifier\n",
        "from sklearn.neural_network import MLPClassifier\n",
        "from sklearn.model_selection import train_test_split\n",
        "from sklearn.metrics import classification_report\n",
        "from sklearn.metrics import accuracy_score\n",
        "from sklearn.utils import resample\n",
        "from imblearn.over_sampling import SMOTE\n",
        "from collections import Counter\n",
        "from sklearn import metrics \n",
        "from sklearn.model_selection import GridSearchCV\n",
        "from sklearn.ensemble import IsolationForest"
      ],
      "metadata": {
        "id": "YaDMXsG0sQmX"
      },
      "execution_count": null,
      "outputs": []
    },
    {
      "cell_type": "markdown",
      "source": [
        "# Splitting Dataset"
      ],
      "metadata": {
        "id": "pvw9gLoI96Ze"
      }
    },
    {
      "cell_type": "code",
      "source": [
        "df_good=m1.loc[m1['failure']==0]\n",
        "df_bad=fdata.loc[fdata['failure']==1]\n",
        "good_y = df_good[\"failure\"]\n",
        "bad_y = df_bad[\"failure\"]"
      ],
      "metadata": {
        "id": "xDTltBbk96LL"
      },
      "execution_count": null,
      "outputs": []
    },
    {
      "cell_type": "code",
      "source": [
        "df_good.shape"
      ],
      "metadata": {
        "colab": {
          "base_uri": "https://localhost:8080/"
        },
        "id": "60eP90gR5Gvk",
        "outputId": "d77f2404-5ec3-4df1-868c-18ec3d560b29"
      },
      "execution_count": null,
      "outputs": [
        {
          "output_type": "execute_result",
          "data": {
            "text/plain": [
              "(104307, 20)"
            ]
          },
          "metadata": {},
          "execution_count": 30
        }
      ]
    },
    {
      "cell_type": "code",
      "source": [
        "df_bad.shape"
      ],
      "metadata": {
        "colab": {
          "base_uri": "https://localhost:8080/"
        },
        "id": "cf7a07foY_eW",
        "outputId": "eec89fa9-2ebf-478d-e91f-5a73283509e4"
      },
      "execution_count": null,
      "outputs": [
        {
          "output_type": "execute_result",
          "data": {
            "text/plain": [
              "(252, 26)"
            ]
          },
          "metadata": {},
          "execution_count": 31
        }
      ]
    },
    {
      "cell_type": "code",
      "source": [
        "X_train_good, X_test_good, y_train_good, y_test_good = train_test_split(df_good, good_y, train_size=0.8, shuffle=False)\n",
        "X_train_bad, X_test_bad, y_train_bad, y_test_bad = train_test_split(df_bad, bad_y, train_size=0.8, shuffle=False)"
      ],
      "metadata": {
        "id": "Y9Kajppk-c4Q"
      },
      "execution_count": null,
      "outputs": []
    },
    {
      "cell_type": "code",
      "source": [
        "print(\"X-train:\",X_train_good.shape)\n",
        "print(\"x-test-good:\",X_test_good.shape)\n",
        "print('y-train-good:',y_train_good.shape)\n",
        "print('y-test-good:',y_test_good.shape)"
      ],
      "metadata": {
        "colab": {
          "base_uri": "https://localhost:8080/"
        },
        "id": "gekReYpLaagS",
        "outputId": "f923eaff-ffe9-448c-c9dd-67bc25d0db65"
      },
      "execution_count": null,
      "outputs": [
        {
          "output_type": "stream",
          "name": "stdout",
          "text": [
            "X-train: (62583, 20)\n",
            "x-test-good: (20862, 20)\n",
            "y-train-good: (62583,)\n",
            "y-test-good: (125166,)\n"
          ]
        }
      ]
    },
    {
      "cell_type": "code",
      "source": [
        "X_train_good, X_val_good, y_train_good, y_val_good = train_test_split(X_train_good, y_train_good, train_size=0.75, shuffle=False)\n",
        "X_train_bad, X_val_bad, y_train_bad, y_val_bad = train_test_split(X_train_bad, y_train_bad, train_size=0.75, shuffle=False)"
      ],
      "metadata": {
        "id": "i32NxAqd-euF"
      },
      "execution_count": null,
      "outputs": []
    },
    {
      "cell_type": "code",
      "source": [
        "print(\"X-train:\",X_train_good.shape)\n",
        "print(\"x-test-good:\",X_test_good.shape)\n",
        "print('y-train-good:',y_train_good.shape)\n",
        "print('y-test-good:',y_test_good.shape)\n",
        "print(\"X-train-bad:\",X_train_bad.shape)\n",
        "print(\"x-val-bad:\",X_val_bad.shape)\n",
        "print('y-train-bad:',y_train_bad.shape)\n",
        "print('y-val-bad:',y_val_bad.shape)"
      ],
      "metadata": {
        "colab": {
          "base_uri": "https://localhost:8080/"
        },
        "id": "Sx54x5UWbH0g",
        "outputId": "63e6a4f8-6efa-4174-a6dd-db14a4ee06e4"
      },
      "execution_count": null,
      "outputs": [
        {
          "output_type": "stream",
          "name": "stdout",
          "text": [
            "X-train: (62583, 20)\n",
            "x-test-good: (20862, 20)\n",
            "y-train-good: (62583,)\n",
            "y-test-good: (125166,)\n",
            "X-train-bad: (62583, 26)\n",
            "x-val-bad: (51, 26)\n",
            "y-train-bad: (62583,)\n",
            "y-val-bad: (51,)\n"
          ]
        }
      ]
    },
    {
      "cell_type": "code",
      "source": [
        "X_train_bad = resample(df_bad, replace=True, n_samples=len(X_train_good), random_state=1)\n",
        "X_train_bad = X_train_bad.sort_values([\"date\"])"
      ],
      "metadata": {
        "id": "RPXA_A7-Cpg-"
      },
      "execution_count": null,
      "outputs": []
    },
    {
      "cell_type": "code",
      "source": [
        "y_train_bad = X_train_bad[\"failure\"]\n",
        "\n",
        "X = pd.concat([X_train_good, X_train_bad], axis=0)\n",
        "Y = pd.concat([y_train_good, y_train_bad], axis=0)\n",
        "X_val = pd.concat([X_val_good, X_val_bad], axis=0)\n",
        "y_val = pd.concat([y_val_good, y_val_bad], axis=0)\n",
        "X_test = pd.concat([X_test_good, X_test_bad], axis=0)\n",
        "y_test = pd.concat([y_test_good, y_test_bad], axis=0)\n",
        "\n",
        "ignore=[\"date\",\"serial_number\",\"model\",\"capacity_bytes\",\"failure\"]\n",
        "X.drop(columns=ignore, inplace=True, axis=1)\n",
        "X_val.drop(columns=ignore, inplace=True, axis=1)\n",
        "X_test.drop(columns=ignore, inplace=True, axis=1)"
      ],
      "metadata": {
        "id": "57vuzHc-1B9c"
      },
      "execution_count": null,
      "outputs": []
    },
    {
      "cell_type": "code",
      "source": [
        "print(\"X-val:\",X_val.shape)\n",
        "print(\"x-test\",X_test.shape)\n",
        "print('y-test:',y_test.shape)\n",
        "print('y-val:',y_val.shape)"
      ],
      "metadata": {
        "colab": {
          "base_uri": "https://localhost:8080/"
        },
        "id": "rN4UlHgjb_6s",
        "outputId": "7899920f-01fc-407f-cb6e-b57813aa9216"
      },
      "execution_count": null,
      "outputs": [
        {
          "output_type": "stream",
          "name": "stdout",
          "text": [
            "X-val: (20913, 21)\n",
            "x-test (20913, 21)\n",
            "y-test: (125217,)\n",
            "y-val: (20913,)\n"
          ]
        }
      ]
    },
    {
      "cell_type": "code",
      "source": [
        "X=X.dropna(axis=1,thresh=min_count)\n",
        "X=X.dropna()\n",
        "X"
      ],
      "metadata": {
        "colab": {
          "base_uri": "https://localhost:8080/",
          "height": 488
        },
        "id": "AxejYupt1WAd",
        "outputId": "701e2d06-6e62-480e-a9b2-93f02c381d94"
      },
      "execution_count": null,
      "outputs": [
        {
          "output_type": "execute_result",
          "data": {
            "text/plain": [
              "     smart_1_raw  smart_3_raw  smart_4_raw  smart_5_raw   smart_7_raw  \\\n",
              "0     96552936.0          0.0         12.0          0.0  8.650780e+08   \n",
              "1      8644208.0          0.0          1.0          0.0  2.518068e+08   \n",
              "2    203828848.0          0.0          8.0          0.0  2.175105e+09   \n",
              "3    234146156.0          0.0         11.0          0.0  1.743098e+09   \n",
              "4     42741208.0          0.0          3.0          0.0  2.474204e+08   \n",
              "..           ...          ...          ...          ...           ...   \n",
              "388  179360528.0          0.0         23.0      10104.0  9.385455e+08   \n",
              "388  179360528.0          0.0         23.0      10104.0  9.385455e+08   \n",
              "388  179360528.0          0.0         23.0      10104.0  9.385455e+08   \n",
              "388  179360528.0          0.0         23.0      10104.0  9.385455e+08   \n",
              "388  179360528.0          0.0         23.0      10104.0  9.385455e+08   \n",
              "\n",
              "     smart_9_raw  smart_12_raw  smart_192_raw  smart_193_raw  smart_194_raw  \\\n",
              "0        12045.0          12.0            2.0         2729.0           32.0   \n",
              "1        15289.0           1.0            0.0         3928.0           48.0   \n",
              "2        14899.0           8.0          126.0          786.0           38.0   \n",
              "3        43078.0          11.0           16.0        65774.0           34.0   \n",
              "4        48173.0           3.0            0.0        54592.0           30.0   \n",
              "..           ...           ...            ...            ...            ...   \n",
              "388      45496.0          21.0            9.0        66852.0           26.0   \n",
              "388      45496.0          21.0            9.0        66852.0           26.0   \n",
              "388      45496.0          21.0            9.0        66852.0           26.0   \n",
              "388      45496.0          21.0            9.0        66852.0           26.0   \n",
              "388      45496.0          21.0            9.0        66852.0           26.0   \n",
              "\n",
              "     smart_197_raw  smart_198_raw  smart_199_raw  smart_240_raw  \\\n",
              "0              0.0            0.0            0.0        11527.0   \n",
              "1              0.0            0.0            0.0        14644.0   \n",
              "2              0.0            0.0            0.0        14842.0   \n",
              "3              0.0            0.0            0.0        43042.0   \n",
              "4              0.0            0.0            0.0        48127.0   \n",
              "..             ...            ...            ...            ...   \n",
              "388            0.0            0.0            0.0        45406.0   \n",
              "388            0.0            0.0            0.0        45406.0   \n",
              "388            0.0            0.0            0.0        45406.0   \n",
              "388            0.0            0.0            0.0        45406.0   \n",
              "388            0.0            0.0            0.0        45406.0   \n",
              "\n",
              "     smart_241_raw  smart_242_raw  \n",
              "0     8.225605e+10   1.663762e+11  \n",
              "1     7.517471e+10   1.909477e+11  \n",
              "2     2.865268e+10   2.769260e+11  \n",
              "3     8.532206e+10   3.213819e+11  \n",
              "4     9.514963e+10   3.546683e+11  \n",
              "..             ...            ...  \n",
              "388   9.050139e+10   3.336813e+11  \n",
              "388   9.050139e+10   3.336813e+11  \n",
              "388   9.050139e+10   3.336813e+11  \n",
              "388   9.050139e+10   3.336813e+11  \n",
              "388   9.050139e+10   3.336813e+11  \n",
              "\n",
              "[125166 rows x 16 columns]"
            ],
            "text/html": [
              "\n",
              "  <div id=\"df-2ce8b16b-c973-4843-9479-d6025445c00e\">\n",
              "    <div class=\"colab-df-container\">\n",
              "      <div>\n",
              "<style scoped>\n",
              "    .dataframe tbody tr th:only-of-type {\n",
              "        vertical-align: middle;\n",
              "    }\n",
              "\n",
              "    .dataframe tbody tr th {\n",
              "        vertical-align: top;\n",
              "    }\n",
              "\n",
              "    .dataframe thead th {\n",
              "        text-align: right;\n",
              "    }\n",
              "</style>\n",
              "<table border=\"1\" class=\"dataframe\">\n",
              "  <thead>\n",
              "    <tr style=\"text-align: right;\">\n",
              "      <th></th>\n",
              "      <th>smart_1_raw</th>\n",
              "      <th>smart_3_raw</th>\n",
              "      <th>smart_4_raw</th>\n",
              "      <th>smart_5_raw</th>\n",
              "      <th>smart_7_raw</th>\n",
              "      <th>smart_9_raw</th>\n",
              "      <th>smart_12_raw</th>\n",
              "      <th>smart_192_raw</th>\n",
              "      <th>smart_193_raw</th>\n",
              "      <th>smart_194_raw</th>\n",
              "      <th>smart_197_raw</th>\n",
              "      <th>smart_198_raw</th>\n",
              "      <th>smart_199_raw</th>\n",
              "      <th>smart_240_raw</th>\n",
              "      <th>smart_241_raw</th>\n",
              "      <th>smart_242_raw</th>\n",
              "    </tr>\n",
              "  </thead>\n",
              "  <tbody>\n",
              "    <tr>\n",
              "      <th>0</th>\n",
              "      <td>96552936.0</td>\n",
              "      <td>0.0</td>\n",
              "      <td>12.0</td>\n",
              "      <td>0.0</td>\n",
              "      <td>8.650780e+08</td>\n",
              "      <td>12045.0</td>\n",
              "      <td>12.0</td>\n",
              "      <td>2.0</td>\n",
              "      <td>2729.0</td>\n",
              "      <td>32.0</td>\n",
              "      <td>0.0</td>\n",
              "      <td>0.0</td>\n",
              "      <td>0.0</td>\n",
              "      <td>11527.0</td>\n",
              "      <td>8.225605e+10</td>\n",
              "      <td>1.663762e+11</td>\n",
              "    </tr>\n",
              "    <tr>\n",
              "      <th>1</th>\n",
              "      <td>8644208.0</td>\n",
              "      <td>0.0</td>\n",
              "      <td>1.0</td>\n",
              "      <td>0.0</td>\n",
              "      <td>2.518068e+08</td>\n",
              "      <td>15289.0</td>\n",
              "      <td>1.0</td>\n",
              "      <td>0.0</td>\n",
              "      <td>3928.0</td>\n",
              "      <td>48.0</td>\n",
              "      <td>0.0</td>\n",
              "      <td>0.0</td>\n",
              "      <td>0.0</td>\n",
              "      <td>14644.0</td>\n",
              "      <td>7.517471e+10</td>\n",
              "      <td>1.909477e+11</td>\n",
              "    </tr>\n",
              "    <tr>\n",
              "      <th>2</th>\n",
              "      <td>203828848.0</td>\n",
              "      <td>0.0</td>\n",
              "      <td>8.0</td>\n",
              "      <td>0.0</td>\n",
              "      <td>2.175105e+09</td>\n",
              "      <td>14899.0</td>\n",
              "      <td>8.0</td>\n",
              "      <td>126.0</td>\n",
              "      <td>786.0</td>\n",
              "      <td>38.0</td>\n",
              "      <td>0.0</td>\n",
              "      <td>0.0</td>\n",
              "      <td>0.0</td>\n",
              "      <td>14842.0</td>\n",
              "      <td>2.865268e+10</td>\n",
              "      <td>2.769260e+11</td>\n",
              "    </tr>\n",
              "    <tr>\n",
              "      <th>3</th>\n",
              "      <td>234146156.0</td>\n",
              "      <td>0.0</td>\n",
              "      <td>11.0</td>\n",
              "      <td>0.0</td>\n",
              "      <td>1.743098e+09</td>\n",
              "      <td>43078.0</td>\n",
              "      <td>11.0</td>\n",
              "      <td>16.0</td>\n",
              "      <td>65774.0</td>\n",
              "      <td>34.0</td>\n",
              "      <td>0.0</td>\n",
              "      <td>0.0</td>\n",
              "      <td>0.0</td>\n",
              "      <td>43042.0</td>\n",
              "      <td>8.532206e+10</td>\n",
              "      <td>3.213819e+11</td>\n",
              "    </tr>\n",
              "    <tr>\n",
              "      <th>4</th>\n",
              "      <td>42741208.0</td>\n",
              "      <td>0.0</td>\n",
              "      <td>3.0</td>\n",
              "      <td>0.0</td>\n",
              "      <td>2.474204e+08</td>\n",
              "      <td>48173.0</td>\n",
              "      <td>3.0</td>\n",
              "      <td>0.0</td>\n",
              "      <td>54592.0</td>\n",
              "      <td>30.0</td>\n",
              "      <td>0.0</td>\n",
              "      <td>0.0</td>\n",
              "      <td>0.0</td>\n",
              "      <td>48127.0</td>\n",
              "      <td>9.514963e+10</td>\n",
              "      <td>3.546683e+11</td>\n",
              "    </tr>\n",
              "    <tr>\n",
              "      <th>...</th>\n",
              "      <td>...</td>\n",
              "      <td>...</td>\n",
              "      <td>...</td>\n",
              "      <td>...</td>\n",
              "      <td>...</td>\n",
              "      <td>...</td>\n",
              "      <td>...</td>\n",
              "      <td>...</td>\n",
              "      <td>...</td>\n",
              "      <td>...</td>\n",
              "      <td>...</td>\n",
              "      <td>...</td>\n",
              "      <td>...</td>\n",
              "      <td>...</td>\n",
              "      <td>...</td>\n",
              "      <td>...</td>\n",
              "    </tr>\n",
              "    <tr>\n",
              "      <th>388</th>\n",
              "      <td>179360528.0</td>\n",
              "      <td>0.0</td>\n",
              "      <td>23.0</td>\n",
              "      <td>10104.0</td>\n",
              "      <td>9.385455e+08</td>\n",
              "      <td>45496.0</td>\n",
              "      <td>21.0</td>\n",
              "      <td>9.0</td>\n",
              "      <td>66852.0</td>\n",
              "      <td>26.0</td>\n",
              "      <td>0.0</td>\n",
              "      <td>0.0</td>\n",
              "      <td>0.0</td>\n",
              "      <td>45406.0</td>\n",
              "      <td>9.050139e+10</td>\n",
              "      <td>3.336813e+11</td>\n",
              "    </tr>\n",
              "    <tr>\n",
              "      <th>388</th>\n",
              "      <td>179360528.0</td>\n",
              "      <td>0.0</td>\n",
              "      <td>23.0</td>\n",
              "      <td>10104.0</td>\n",
              "      <td>9.385455e+08</td>\n",
              "      <td>45496.0</td>\n",
              "      <td>21.0</td>\n",
              "      <td>9.0</td>\n",
              "      <td>66852.0</td>\n",
              "      <td>26.0</td>\n",
              "      <td>0.0</td>\n",
              "      <td>0.0</td>\n",
              "      <td>0.0</td>\n",
              "      <td>45406.0</td>\n",
              "      <td>9.050139e+10</td>\n",
              "      <td>3.336813e+11</td>\n",
              "    </tr>\n",
              "    <tr>\n",
              "      <th>388</th>\n",
              "      <td>179360528.0</td>\n",
              "      <td>0.0</td>\n",
              "      <td>23.0</td>\n",
              "      <td>10104.0</td>\n",
              "      <td>9.385455e+08</td>\n",
              "      <td>45496.0</td>\n",
              "      <td>21.0</td>\n",
              "      <td>9.0</td>\n",
              "      <td>66852.0</td>\n",
              "      <td>26.0</td>\n",
              "      <td>0.0</td>\n",
              "      <td>0.0</td>\n",
              "      <td>0.0</td>\n",
              "      <td>45406.0</td>\n",
              "      <td>9.050139e+10</td>\n",
              "      <td>3.336813e+11</td>\n",
              "    </tr>\n",
              "    <tr>\n",
              "      <th>388</th>\n",
              "      <td>179360528.0</td>\n",
              "      <td>0.0</td>\n",
              "      <td>23.0</td>\n",
              "      <td>10104.0</td>\n",
              "      <td>9.385455e+08</td>\n",
              "      <td>45496.0</td>\n",
              "      <td>21.0</td>\n",
              "      <td>9.0</td>\n",
              "      <td>66852.0</td>\n",
              "      <td>26.0</td>\n",
              "      <td>0.0</td>\n",
              "      <td>0.0</td>\n",
              "      <td>0.0</td>\n",
              "      <td>45406.0</td>\n",
              "      <td>9.050139e+10</td>\n",
              "      <td>3.336813e+11</td>\n",
              "    </tr>\n",
              "    <tr>\n",
              "      <th>388</th>\n",
              "      <td>179360528.0</td>\n",
              "      <td>0.0</td>\n",
              "      <td>23.0</td>\n",
              "      <td>10104.0</td>\n",
              "      <td>9.385455e+08</td>\n",
              "      <td>45496.0</td>\n",
              "      <td>21.0</td>\n",
              "      <td>9.0</td>\n",
              "      <td>66852.0</td>\n",
              "      <td>26.0</td>\n",
              "      <td>0.0</td>\n",
              "      <td>0.0</td>\n",
              "      <td>0.0</td>\n",
              "      <td>45406.0</td>\n",
              "      <td>9.050139e+10</td>\n",
              "      <td>3.336813e+11</td>\n",
              "    </tr>\n",
              "  </tbody>\n",
              "</table>\n",
              "<p>125166 rows × 16 columns</p>\n",
              "</div>\n",
              "      <button class=\"colab-df-convert\" onclick=\"convertToInteractive('df-2ce8b16b-c973-4843-9479-d6025445c00e')\"\n",
              "              title=\"Convert this dataframe to an interactive table.\"\n",
              "              style=\"display:none;\">\n",
              "        \n",
              "  <svg xmlns=\"http://www.w3.org/2000/svg\" height=\"24px\"viewBox=\"0 0 24 24\"\n",
              "       width=\"24px\">\n",
              "    <path d=\"M0 0h24v24H0V0z\" fill=\"none\"/>\n",
              "    <path d=\"M18.56 5.44l.94 2.06.94-2.06 2.06-.94-2.06-.94-.94-2.06-.94 2.06-2.06.94zm-11 1L8.5 8.5l.94-2.06 2.06-.94-2.06-.94L8.5 2.5l-.94 2.06-2.06.94zm10 10l.94 2.06.94-2.06 2.06-.94-2.06-.94-.94-2.06-.94 2.06-2.06.94z\"/><path d=\"M17.41 7.96l-1.37-1.37c-.4-.4-.92-.59-1.43-.59-.52 0-1.04.2-1.43.59L10.3 9.45l-7.72 7.72c-.78.78-.78 2.05 0 2.83L4 21.41c.39.39.9.59 1.41.59.51 0 1.02-.2 1.41-.59l7.78-7.78 2.81-2.81c.8-.78.8-2.07 0-2.86zM5.41 20L4 18.59l7.72-7.72 1.47 1.35L5.41 20z\"/>\n",
              "  </svg>\n",
              "      </button>\n",
              "      \n",
              "  <style>\n",
              "    .colab-df-container {\n",
              "      display:flex;\n",
              "      flex-wrap:wrap;\n",
              "      gap: 12px;\n",
              "    }\n",
              "\n",
              "    .colab-df-convert {\n",
              "      background-color: #E8F0FE;\n",
              "      border: none;\n",
              "      border-radius: 50%;\n",
              "      cursor: pointer;\n",
              "      display: none;\n",
              "      fill: #1967D2;\n",
              "      height: 32px;\n",
              "      padding: 0 0 0 0;\n",
              "      width: 32px;\n",
              "    }\n",
              "\n",
              "    .colab-df-convert:hover {\n",
              "      background-color: #E2EBFA;\n",
              "      box-shadow: 0px 1px 2px rgba(60, 64, 67, 0.3), 0px 1px 3px 1px rgba(60, 64, 67, 0.15);\n",
              "      fill: #174EA6;\n",
              "    }\n",
              "\n",
              "    [theme=dark] .colab-df-convert {\n",
              "      background-color: #3B4455;\n",
              "      fill: #D2E3FC;\n",
              "    }\n",
              "\n",
              "    [theme=dark] .colab-df-convert:hover {\n",
              "      background-color: #434B5C;\n",
              "      box-shadow: 0px 1px 3px 1px rgba(0, 0, 0, 0.15);\n",
              "      filter: drop-shadow(0px 1px 2px rgba(0, 0, 0, 0.3));\n",
              "      fill: #FFFFFF;\n",
              "    }\n",
              "  </style>\n",
              "\n",
              "      <script>\n",
              "        const buttonEl =\n",
              "          document.querySelector('#df-2ce8b16b-c973-4843-9479-d6025445c00e button.colab-df-convert');\n",
              "        buttonEl.style.display =\n",
              "          google.colab.kernel.accessAllowed ? 'block' : 'none';\n",
              "\n",
              "        async function convertToInteractive(key) {\n",
              "          const element = document.querySelector('#df-2ce8b16b-c973-4843-9479-d6025445c00e');\n",
              "          const dataTable =\n",
              "            await google.colab.kernel.invokeFunction('convertToInteractive',\n",
              "                                                     [key], {});\n",
              "          if (!dataTable) return;\n",
              "\n",
              "          const docLinkHtml = 'Like what you see? Visit the ' +\n",
              "            '<a target=\"_blank\" href=https://colab.research.google.com/notebooks/data_table.ipynb>data table notebook</a>'\n",
              "            + ' to learn more about interactive tables.';\n",
              "          element.innerHTML = '';\n",
              "          dataTable['output_type'] = 'display_data';\n",
              "          await google.colab.output.renderOutput(dataTable, element);\n",
              "          const docLink = document.createElement('div');\n",
              "          docLink.innerHTML = docLinkHtml;\n",
              "          element.appendChild(docLink);\n",
              "        }\n",
              "      </script>\n",
              "    </div>\n",
              "  </div>\n",
              "  "
            ]
          },
          "metadata": {},
          "execution_count": 44
        }
      ]
    },
    {
      "cell_type": "code",
      "source": [
        "X.columns.values"
      ],
      "metadata": {
        "colab": {
          "base_uri": "https://localhost:8080/"
        },
        "id": "bFkik-EC7pXH",
        "outputId": "9c61b9c6-522e-4f6e-c1bd-d20390ec1afa"
      },
      "execution_count": null,
      "outputs": [
        {
          "output_type": "execute_result",
          "data": {
            "text/plain": [
              "array(['smart_1_raw', 'smart_3_raw', 'smart_4_raw', 'smart_5_raw',\n",
              "       'smart_7_raw', 'smart_9_raw', 'smart_12_raw', 'smart_192_raw',\n",
              "       'smart_193_raw', 'smart_194_raw', 'smart_197_raw', 'smart_198_raw',\n",
              "       'smart_199_raw', 'smart_240_raw', 'smart_241_raw', 'smart_242_raw'],\n",
              "      dtype=object)"
            ]
          },
          "metadata": {},
          "execution_count": 45
        }
      ]
    },
    {
      "cell_type": "code",
      "source": [
        "X_test.drop(columns=['smart_10_raw','smart_187_raw','smart_188_raw','smart_190_raw','smart_191_raw'], inplace=True, axis=1)"
      ],
      "metadata": {
        "id": "kxO9FLgn77d6"
      },
      "execution_count": null,
      "outputs": []
    },
    {
      "cell_type": "code",
      "source": [
        "X_test.columns.values"
      ],
      "metadata": {
        "colab": {
          "base_uri": "https://localhost:8080/"
        },
        "id": "mpqn3ZWC8RP4",
        "outputId": "ab6a482f-77fe-4c82-9c2d-a7ab3c296802"
      },
      "execution_count": null,
      "outputs": [
        {
          "output_type": "execute_result",
          "data": {
            "text/plain": [
              "array(['smart_1_raw', 'smart_3_raw', 'smart_4_raw', 'smart_5_raw',\n",
              "       'smart_7_raw', 'smart_9_raw', 'smart_12_raw', 'smart_192_raw',\n",
              "       'smart_193_raw', 'smart_194_raw', 'smart_197_raw', 'smart_198_raw',\n",
              "       'smart_199_raw', 'smart_240_raw', 'smart_241_raw', 'smart_242_raw',\n",
              "       'smart_10_raw', 'smart_187_raw', 'smart_188_raw', 'smart_190_raw',\n",
              "       'smart_191_raw'], dtype=object)"
            ]
          },
          "metadata": {},
          "execution_count": 46
        }
      ]
    },
    {
      "cell_type": "code",
      "source": [
        "Y"
      ],
      "metadata": {
        "colab": {
          "base_uri": "https://localhost:8080/"
        },
        "id": "pzHhOsrl2xfI",
        "outputId": "8391bb06-f74d-47da-91d6-2b20c02c1ea5"
      },
      "execution_count": null,
      "outputs": [
        {
          "output_type": "execute_result",
          "data": {
            "text/plain": [
              "0      0\n",
              "1      0\n",
              "2      0\n",
              "3      0\n",
              "4      0\n",
              "      ..\n",
              "388    1\n",
              "388    1\n",
              "388    1\n",
              "388    1\n",
              "388    1\n",
              "Name: failure, Length: 125166, dtype: int64"
            ]
          },
          "metadata": {},
          "execution_count": 47
        }
      ]
    },
    {
      "cell_type": "code",
      "source": [
        "sm = SMOTE(random_state=42)\n",
        "X, Y = sm.fit_resample(X, Y)"
      ],
      "metadata": {
        "id": "9lSt4VFO1jsW"
      },
      "execution_count": null,
      "outputs": []
    },
    {
      "cell_type": "markdown",
      "source": [
        "#Meachine Learning\n"
      ],
      "metadata": {
        "id": "UNfRp-kxx-3P"
      }
    },
    {
      "cell_type": "code",
      "source": [
        "from sklearn.model_selection import train_test_split\n",
        "x_tr, x_te, y_tr, y_te = train_test_split(X,Y, test_size = 0.3, random_state=500)\n",
        "print(\"X-Train:\", x_tr.shape)\n",
        "print(\"Y-Train:\", y_tr.shape)\n",
        "print(\"X-Test:\", x_te.shape)\n",
        "print(\"Y-Test:\", x_te.shape)"
      ],
      "metadata": {
        "id": "lip07m0yx8Lx",
        "colab": {
          "base_uri": "https://localhost:8080/"
        },
        "outputId": "72201b10-96ac-4df6-ed39-b98d3e4af3ba"
      },
      "execution_count": null,
      "outputs": [
        {
          "output_type": "stream",
          "name": "stdout",
          "text": [
            "X-Train: (87616, 16)\n",
            "Y-Train: (87616,)\n",
            "X-Test: (37550, 16)\n",
            "Y-Test: (37550, 16)\n"
          ]
        }
      ]
    },
    {
      "cell_type": "code",
      "source": [
        "from sklearn.preprocessing import StandardScaler\n",
        "sc = StandardScaler()\n",
        "x_tr = sc.fit_transform(x_tr)\n",
        "x_te = sc.transform(x_te)"
      ],
      "metadata": {
        "id": "7-FhQvE8cyUG"
      },
      "execution_count": null,
      "outputs": []
    },
    {
      "cell_type": "code",
      "source": [
        "param_grid={\n",
        "    'n_estimators': [5,10,25,50,75,100],\n",
        "    'max_features':['sqrt'],\n",
        "    'criterion': ['gini','entropy'],\n",
        "    'max_depth': [4,5,6,7],\n",
        "    'bootstrap': [True, False]\n",
        "}\n",
        "\n",
        "rf = RandomForestClassifier(random_state=1)\n",
        "gs = GridSearchCV(rf,param_grid,cv=5)\n",
        "gs.fit(X,Y)\n",
        "print(\"Best parameters:\",gs.best_params_)\n",
        "print(\"Parameters accuracy:\",gs.best_score_)"
      ],
      "metadata": {
        "colab": {
          "base_uri": "https://localhost:8080/"
        },
        "id": "N-Cv99Kr64T0",
        "outputId": "ed365f21-a51c-4032-99ab-b91afd23e446"
      },
      "execution_count": null,
      "outputs": [
        {
          "output_type": "stream",
          "name": "stdout",
          "text": [
            "Best parameters: {'bootstrap': True, 'criterion': 'gini', 'max_depth': 5, 'max_features': 'sqrt', 'n_estimators': 75}\n",
            "Parameters accuracy: 0.8885400752511836\n"
          ]
        }
      ]
    },
    {
      "cell_type": "code",
      "source": [
        "from sklearn.ensemble import RandomForestClassifier\n",
        "\n",
        "model = RandomForestClassifier(max_depth = 5,criterion='gini',max_features = 'sqrt', n_estimators=75)\n",
        "model.fit(x_tr,y_tr)"
      ],
      "metadata": {
        "colab": {
          "base_uri": "https://localhost:8080/",
          "height": 52
        },
        "id": "5LI5vEzhKyHJ",
        "outputId": "e164b08e-56bb-46e4-9cbf-f9f6bee9439d"
      },
      "execution_count": null,
      "outputs": [
        {
          "output_type": "execute_result",
          "data": {
            "text/plain": [
              "RandomForestClassifier(max_depth=5, n_estimators=75)"
            ],
            "text/html": [
              "<style>#sk-container-id-1 {color: black;background-color: white;}#sk-container-id-1 pre{padding: 0;}#sk-container-id-1 div.sk-toggleable {background-color: white;}#sk-container-id-1 label.sk-toggleable__label {cursor: pointer;display: block;width: 100%;margin-bottom: 0;padding: 0.3em;box-sizing: border-box;text-align: center;}#sk-container-id-1 label.sk-toggleable__label-arrow:before {content: \"▸\";float: left;margin-right: 0.25em;color: #696969;}#sk-container-id-1 label.sk-toggleable__label-arrow:hover:before {color: black;}#sk-container-id-1 div.sk-estimator:hover label.sk-toggleable__label-arrow:before {color: black;}#sk-container-id-1 div.sk-toggleable__content {max-height: 0;max-width: 0;overflow: hidden;text-align: left;background-color: #f0f8ff;}#sk-container-id-1 div.sk-toggleable__content pre {margin: 0.2em;color: black;border-radius: 0.25em;background-color: #f0f8ff;}#sk-container-id-1 input.sk-toggleable__control:checked~div.sk-toggleable__content {max-height: 200px;max-width: 100%;overflow: auto;}#sk-container-id-1 input.sk-toggleable__control:checked~label.sk-toggleable__label-arrow:before {content: \"▾\";}#sk-container-id-1 div.sk-estimator input.sk-toggleable__control:checked~label.sk-toggleable__label {background-color: #d4ebff;}#sk-container-id-1 div.sk-label input.sk-toggleable__control:checked~label.sk-toggleable__label {background-color: #d4ebff;}#sk-container-id-1 input.sk-hidden--visually {border: 0;clip: rect(1px 1px 1px 1px);clip: rect(1px, 1px, 1px, 1px);height: 1px;margin: -1px;overflow: hidden;padding: 0;position: absolute;width: 1px;}#sk-container-id-1 div.sk-estimator {font-family: monospace;background-color: #f0f8ff;border: 1px dotted black;border-radius: 0.25em;box-sizing: border-box;margin-bottom: 0.5em;}#sk-container-id-1 div.sk-estimator:hover {background-color: #d4ebff;}#sk-container-id-1 div.sk-parallel-item::after {content: \"\";width: 100%;border-bottom: 1px solid gray;flex-grow: 1;}#sk-container-id-1 div.sk-label:hover label.sk-toggleable__label {background-color: #d4ebff;}#sk-container-id-1 div.sk-serial::before {content: \"\";position: absolute;border-left: 1px solid gray;box-sizing: border-box;top: 0;bottom: 0;left: 50%;z-index: 0;}#sk-container-id-1 div.sk-serial {display: flex;flex-direction: column;align-items: center;background-color: white;padding-right: 0.2em;padding-left: 0.2em;position: relative;}#sk-container-id-1 div.sk-item {position: relative;z-index: 1;}#sk-container-id-1 div.sk-parallel {display: flex;align-items: stretch;justify-content: center;background-color: white;position: relative;}#sk-container-id-1 div.sk-item::before, #sk-container-id-1 div.sk-parallel-item::before {content: \"\";position: absolute;border-left: 1px solid gray;box-sizing: border-box;top: 0;bottom: 0;left: 50%;z-index: -1;}#sk-container-id-1 div.sk-parallel-item {display: flex;flex-direction: column;z-index: 1;position: relative;background-color: white;}#sk-container-id-1 div.sk-parallel-item:first-child::after {align-self: flex-end;width: 50%;}#sk-container-id-1 div.sk-parallel-item:last-child::after {align-self: flex-start;width: 50%;}#sk-container-id-1 div.sk-parallel-item:only-child::after {width: 0;}#sk-container-id-1 div.sk-dashed-wrapped {border: 1px dashed gray;margin: 0 0.4em 0.5em 0.4em;box-sizing: border-box;padding-bottom: 0.4em;background-color: white;}#sk-container-id-1 div.sk-label label {font-family: monospace;font-weight: bold;display: inline-block;line-height: 1.2em;}#sk-container-id-1 div.sk-label-container {text-align: center;}#sk-container-id-1 div.sk-container {/* jupyter's `normalize.less` sets `[hidden] { display: none; }` but bootstrap.min.css set `[hidden] { display: none !important; }` so we also need the `!important` here to be able to override the default hidden behavior on the sphinx rendered scikit-learn.org. See: https://github.com/scikit-learn/scikit-learn/issues/21755 */display: inline-block !important;position: relative;}#sk-container-id-1 div.sk-text-repr-fallback {display: none;}</style><div id=\"sk-container-id-1\" class=\"sk-top-container\"><div class=\"sk-text-repr-fallback\"><pre>RandomForestClassifier(max_depth=5, n_estimators=75)</pre><b>In a Jupyter environment, please rerun this cell to show the HTML representation or trust the notebook. <br />On GitHub, the HTML representation is unable to render, please try loading this page with nbviewer.org.</b></div><div class=\"sk-container\" hidden><div class=\"sk-item\"><div class=\"sk-estimator sk-toggleable\"><input class=\"sk-toggleable__control sk-hidden--visually\" id=\"sk-estimator-id-1\" type=\"checkbox\" checked><label for=\"sk-estimator-id-1\" class=\"sk-toggleable__label sk-toggleable__label-arrow\">RandomForestClassifier</label><div class=\"sk-toggleable__content\"><pre>RandomForestClassifier(max_depth=5, n_estimators=75)</pre></div></div></div></div></div>"
            ]
          },
          "metadata": {},
          "execution_count": 57
        }
      ]
    },
    {
      "cell_type": "markdown",
      "source": [
        "# Accuracy"
      ],
      "metadata": {
        "id": "h7otI1hRKnbJ"
      }
    },
    {
      "cell_type": "code",
      "source": [
        "from sklearn.metrics import accuracy_score\n",
        "y_pred = model.predict(x_te)\n",
        "print(\"Model Accuracy:\",accuracy_score(y_te,y_pred))\n",
        "print(\"Training Accuracy:\",model.score(x_tr,y_tr))\n",
        "print(\"Testing Accuracy:\",model.score(x_te,y_te))"
      ],
      "metadata": {
        "colab": {
          "base_uri": "https://localhost:8080/"
        },
        "id": "7WV_Hmx5UpCk",
        "outputId": "1c7531ba-6a7a-4b8c-a5ac-812fa5b51f5f"
      },
      "execution_count": null,
      "outputs": [
        {
          "output_type": "stream",
          "name": "stdout",
          "text": [
            "Model Accuracy: 0.9135286284953396\n",
            "Training Accuracy: 0.9164992695398101\n",
            "Testing Accuracy: 0.9135286284953396\n"
          ]
        }
      ]
    },
    {
      "cell_type": "code",
      "source": [
        "from sklearn.metrics import confusion_matrix\n",
        "cm = confusion_matrix(y_te,y_pred)\n",
        "print(\"Confusion Matrix:\\n\",cm)"
      ],
      "metadata": {
        "id": "NaJBF_EXV9Ao",
        "colab": {
          "base_uri": "https://localhost:8080/"
        },
        "outputId": "11727ac9-18c3-44bf-e1cc-2294f30e0614"
      },
      "execution_count": null,
      "outputs": [
        {
          "output_type": "stream",
          "name": "stdout",
          "text": [
            "Confusion Matrix:\n",
            " [[17990   690]\n",
            " [ 2557 16313]]\n"
          ]
        }
      ]
    },
    {
      "cell_type": "code",
      "source": [
        "from sklearn.metrics import classification_report\n",
        "cr = classification_report(y_te, y_pred)\n",
        "print(cr)"
      ],
      "metadata": {
        "colab": {
          "base_uri": "https://localhost:8080/"
        },
        "id": "cu7_bppQeNPk",
        "outputId": "801fe745-e9fc-4cb3-a0c4-2e314829fcc7"
      },
      "execution_count": null,
      "outputs": [
        {
          "output_type": "stream",
          "name": "stdout",
          "text": [
            "              precision    recall  f1-score   support\n",
            "\n",
            "           0       0.88      0.96      0.92     18680\n",
            "           1       0.96      0.86      0.91     18870\n",
            "\n",
            "    accuracy                           0.91     37550\n",
            "   macro avg       0.92      0.91      0.91     37550\n",
            "weighted avg       0.92      0.91      0.91     37550\n",
            "\n"
          ]
        }
      ]
    },
    {
      "cell_type": "markdown",
      "source": [
        "# Cross Vaildate"
      ],
      "metadata": {
        "id": "Y8wuznPut3gQ"
      }
    },
    {
      "cell_type": "code",
      "source": [
        "from sklearn.model_selection import cross_validate\n",
        "cv = cross_validate(model, x_tr, y_tr, cv=5, scoring = 'accuracy')\n",
        "print(cv['test_score'])\n",
        "print(cv['test_score'].mean())\n"
      ],
      "metadata": {
        "colab": {
          "base_uri": "https://localhost:8080/"
        },
        "id": "WKPBXT4ZFTXI",
        "outputId": "ef875dee-5b82-4610-8de8-90d7933ab708"
      },
      "execution_count": null,
      "outputs": [
        {
          "output_type": "stream",
          "name": "stdout",
          "text": [
            "[0.90652819 0.90532443 0.91890658 0.9135422  0.91171603]\n",
            "0.9112034865241121\n"
          ]
        }
      ]
    },
    {
      "cell_type": "code",
      "source": [
        "from sklearn.model_selection import cross_val_score\n",
        "\n",
        "score_tr = cross_val_score(model,x_tr,y_tr,scoring=\"accuracy\",cv=5)\n",
        "print(\"Training:\",score_tr.mean())\n",
        "score_te = cross_val_score(model,x_te,y_te,scoring=\"accuracy\",cv=5)\n",
        "print(\"Testing:\",score_te.mean())\n",
        "score = cross_val_score(model,X,Y,scoring=\"accuracy\",cv=5)\n",
        "print(\"Model:\",score.mean())"
      ],
      "metadata": {
        "colab": {
          "base_uri": "https://localhost:8080/"
        },
        "id": "ikYSb30goVBI",
        "outputId": "a2694ef5-23c0-4ba4-c8ae-5b0fe090c989"
      },
      "execution_count": null,
      "outputs": [
        {
          "output_type": "stream",
          "name": "stdout",
          "text": [
            "Training: 0.9140910626048685\n",
            "Testing: 0.9105459387483356\n",
            "Model: 0.8851446285039722\n"
          ]
        }
      ]
    },
    {
      "cell_type": "code",
      "source": [
        "import matplotlib.pyplot as plt\n",
        "\n",
        "def cross_validation(model,X,y,cv=5):\n",
        "    scoring = ['accuracy','precision_macro','recall_macro','f1_macro']\n",
        "    results = cross_validate(estimator=model,\n",
        "                            X=X,y=Y,cv=cv,scoring=scoring,return_train_score=True)\n",
        "    return {\n",
        "        \"Training accuracy scores\": results['train_accuracy'],\n",
        "        \"Mean training accuracy\": results['train_accuracy'].mean(),\n",
        "        \"Training precision scores\": results['train_precision_macro'],\n",
        "        \"Mean training precision\": results['train_precision_macro'].mean(),\n",
        "        \"Training recall scores\": results['train_recall_macro'],\n",
        "        \"Mean training recall\": results['train_recall_macro'].mean(),\n",
        "        \"Training f1 score\": results['train_f1_macro'],\n",
        "        \"Mean training f1 score\": results['train_f1_macro'].mean(),\n",
        "        \"Validation accuracy scores\": results['test_accuracy'],\n",
        "        \"Mean Validation accuracy\": results['test_accuracy'].mean(),\n",
        "        \"Validation precision scores\": results['test_precision_macro'],\n",
        "        \"Mean validation precision\": results['test_precision_macro'].mean(),\n",
        "        \"Validation recall scores\": results['test_recall_macro'],\n",
        "        \"Mean validation recall\": results['test_recall_macro'].mean(),\n",
        "        \"Validation f1 score\": results['test_f1_macro'],\n",
        "        \"Mean validation f1 score\": results['test_f1_macro'].mean(),\n",
        "    }\n",
        "\n",
        "def plot_results(X_label, y_label, plot_title, train_data, val_data):\n",
        "    plt.figure(figsize=(8,4))\n",
        "    labels=[\"1st Fold\",\"2nd Fold\",\"3rd Fold\",\"4th Fold\",\"5th Fold\"]\n",
        "    X_axis=np.arange(len(labels))\n",
        "    ax=plt.gca()\n",
        "    plt.ylim(0.4000,1)\n",
        "    plt.bar(X_axis-0.2,train_data,0.4,color='green',label='Training')\n",
        "    plt.bar(X_axis+0.2,val_data,0.4,color='red',label='Validation')\n",
        "    plt.title(plot_title,fontsize=20)\n",
        "    plt.xticks(X_axis,labels)\n",
        "    plt.xlabel(X_label,fontsize=10)\n",
        "    plt.ylabel(y_label,fontsize=10)\n",
        "    plt.legend()\n",
        "    plt.show()"
      ],
      "metadata": {
        "id": "T7e6-tCtpLbv"
      },
      "execution_count": null,
      "outputs": []
    },
    {
      "cell_type": "code",
      "source": [
        "model = RandomForestClassifier(max_depth = 5,criterion='gini',max_features = 'sqrt', n_estimators=75)\n",
        "\n",
        "result = cross_validation(model,X,Y,5)\n",
        "print(result)"
      ],
      "metadata": {
        "colab": {
          "base_uri": "https://localhost:8080/"
        },
        "id": "TyfNN4kyqGkS",
        "outputId": "3ca7ad4a-1942-472f-ae39-3f805d1ec613"
      },
      "execution_count": null,
      "outputs": [
        {
          "output_type": "stream",
          "name": "stdout",
          "text": [
            "{'Training accuracy scores': array([0.90837095, 0.92045579, 0.90447705, 0.91480331, 0.92375141]), 'Mean training accuracy': 0.9143717023777385, 'Training precision scores': array([0.91468322, 0.92374765, 0.91015124, 0.9197244 , 0.9264561 ]), 'Mean training precision': 0.9189525208254435, 'Training recall scores': array([0.90837095, 0.92045623, 0.90447763, 0.91480277, 0.92375101]), 'Mean training recall': 0.91437172020356, 'Training f1 score': array([0.90802093, 0.92030107, 0.90414561, 0.91455278, 0.92363027]), 'Mean training f1 score': 0.9141301319295797, 'Validation accuracy scores': array([0.86162819, 0.8976551 , 0.8887868 , 0.90160987, 0.86334039]), 'Mean Validation accuracy': 0.8826040696026393, 'Validation precision scores': array([0.87938551, 0.90443169, 0.89745264, 0.90945758, 0.87827286]), 'Mean validation precision': 0.8938000577879908, 'Validation recall scores': array([0.86162819, 0.89765251, 0.88878385, 0.90161264, 0.86334436]), 'Mean validation recall': 0.8826043094654293, 'Validation f1 score': array([0.85998987, 0.89722414, 0.88817673, 0.90113661, 0.86197919]), 'Mean validation f1 score': 0.8817013097703846}\n"
          ]
        }
      ]
    },
    {
      "cell_type": "code",
      "source": [
        "import matplotlib.pyplot as plt\n",
        "\n",
        "model_name= \"Random forest classifier\"\n",
        "plot_results(model_name,\"Accuracy\",\"Accuracy scores in 5 folds\",\n",
        "           result[\"Training accuracy scores\"],\n",
        "           result[\"Validation accuracy scores\"])"
      ],
      "metadata": {
        "colab": {
          "base_uri": "https://localhost:8080/",
          "height": 418
        },
        "id": "wPnG0Z6Ep9UX",
        "outputId": "2e6b3f65-9a4c-423f-c8cf-4b55969aa7c3"
      },
      "execution_count": null,
      "outputs": [
        {
          "output_type": "display_data",
          "data": {
            "text/plain": [
              "<Figure size 800x400 with 1 Axes>"
            ],
            "image/png": "[encoded data removed]"
          },
          "metadata": {}
        }
      ]
    },
    {
      "cell_type": "code",
      "source": [
        "model_name= \"Random forest classifier\"\n",
        "plot_results(model_name,\"Precision\",\"Precision scores in 5 folds\",\n",
        "           result[\"Training precision scores\"],\n",
        "           result[\"Validation precision scores\"])"
      ],
      "metadata": {
        "colab": {
          "base_uri": "https://localhost:8080/",
          "height": 418
        },
        "id": "4ChUswMD0d0y",
        "outputId": "c5355f0c-ea37-4c85-8507-e83727fca63b"
      },
      "execution_count": null,
      "outputs": [
        {
          "output_type": "display_data",
          "data": {
            "text/plain": [
              "<Figure size 800x400 with 1 Axes>"
            ],
            "image/png": "[encoded data removed]"
          },
          "metadata": {}
        }
      ]
    },
    {
      "cell_type": "code",
      "source": [
        "model_name= \"Random forest classifier\"\n",
        "plot_results(model_name,\"Recall\",\"Recall scores in 5 folds\",\n",
        "           result[\"Training recall scores\"],\n",
        "           result[\"Validation recall scores\"])"
      ],
      "metadata": {
        "colab": {
          "base_uri": "https://localhost:8080/",
          "height": 418
        },
        "id": "7J_mksTZ0jsW",
        "outputId": "bdfd4f8f-9ab2-4894-b750-0a21e200b754"
      },
      "execution_count": null,
      "outputs": [
        {
          "output_type": "display_data",
          "data": {
            "text/plain": [
              "<Figure size 800x400 with 1 Axes>"
            ],
            "image/png": "[encoded data removed]"
          },
          "metadata": {}
        }
      ]
    },
    {
      "cell_type": "code",
      "source": [
        "model_name= \"Random forest classifier\"\n",
        "plot_results(model_name,\"F1\",\"F1 scores in 5 folds\",\n",
        "           result[\"Training f1 score\"],\n",
        "           result[\"Validation f1 score\"])"
      ],
      "metadata": {
        "colab": {
          "base_uri": "https://localhost:8080/",
          "height": 418
        },
        "id": "ieD0NCsM0n2H",
        "outputId": "9d2f79cd-1327-446c-8edb-23701998e578"
      },
      "execution_count": null,
      "outputs": [
        {
          "output_type": "display_data",
          "data": {
            "text/plain": [
              "<Figure size 800x400 with 1 Axes>"
            ],
            "image/png": "[encoded data removed]"
          },
          "metadata": {}
        }
      ]
    },
    {
      "cell_type": "code",
      "source": [],
      "metadata": {
        "id": "spefSQrZlNVJ"
      },
      "execution_count": null,
      "outputs": []
    }
  ]
}